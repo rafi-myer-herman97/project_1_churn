{
 "cells": [
  {
   "cell_type": "code",
   "execution_count": 213,
   "metadata": {},
   "outputs": [],
   "source": [
    "#Import modules needed for pre-processing\n",
    "import pandas as pd\n",
    "import numpy as np\n",
    "import matplotlib.pyplot as plt\n",
    "from scipy import stats\n",
    "from sklearn.model_selection import train_test_split\n",
    "from sklearn.preprocessing import MinMaxScaler\n",
    "from sklearn.preprocessing import StandardScaler\n",
    "from pandas.plotting import scatter_matrix\n",
    "from sklearn.preprocessing import OneHotEncoder\n",
    "from sklearn.model_selection import StratifiedShuffleSplit\n",
    "from imblearn.over_sampling import SMOTE\n",
    "\n",
    "#Import modules needed for modelling\n",
    "from sklearn.tree import DecisionTreeClassifier\n",
    "from sklearn import tree\n",
    "from matplotlib import pyplot as plt\n",
    "from sklearn.metrics import precision_recall_fscore_support\n",
    "from sklearn.ensemble import RandomForestClassifier\n",
    "from sklearn.model_selection import cross_val_score\n",
    "from sklearn.svm import LinearSVC\n",
    "from sklearn.model_selection import GridSearchCV\n",
    "import time\n",
    "from sklearn.svm import SVC\n",
    "from sklearn.metrics import confusion_matrix\n",
    "from joblib import dump\n",
    "import os\n",
    "from joblib import load\n",
    "from sklearn.tree import export_graphviz\n",
    "from subprocess import call\n",
    "from IPython.display import Image\n",
    "from sklearn.metrics import plot_confusion_matrix\n",
    "from sklearn.tree import plot_tree\n",
    "from sklearn.neural_network import MLPClassifier"
   ]
  },
  {
   "cell_type": "markdown",
   "metadata": {},
   "source": [
    "### 1. Business Problem"
   ]
  },
  {
   "cell_type": "markdown",
   "metadata": {},
   "source": [
    "Because acquiring new customers is more expensive than keeping existing ones, it is vital for banks or any business to identify unsatisfied consumers who may decide to stop using the bank's services and switch to a competitor. Bank decision-makers could reduce churn rates and increase customer loyalty by spotting clients who are likely to leave. This could be done by engaging with those customers who are likely to be churned to give them rewards and offer them customized promotions. This machine learning project intends to establish a predictive model that helps identify customers likely to churn by constructing classification models on historical bank customer data. This will assist bank decision-makers in detecting customers with a high likelihood of churning and formulating effective strategies to keep those customers."
   ]
  },
  {
   "cell_type": "markdown",
   "metadata": {},
   "source": [
    "### 2. Importing the Dataset"
   ]
  },
  {
   "cell_type": "markdown",
   "metadata": {},
   "source": [
    "This dataset was found on Kaggle (https://www.kaggle.com/mathchi/churn-for-bank-customers), an open-source site to download databases to help with machine learning projects. It includes columns that all banks have on their customers which makes it perfect for this project."
   ]
  },
  {
   "cell_type": "code",
   "execution_count": 214,
   "metadata": {},
   "outputs": [
    {
     "data": {
      "text/html": [
       "<div>\n",
       "<style scoped>\n",
       "    .dataframe tbody tr th:only-of-type {\n",
       "        vertical-align: middle;\n",
       "    }\n",
       "\n",
       "    .dataframe tbody tr th {\n",
       "        vertical-align: top;\n",
       "    }\n",
       "\n",
       "    .dataframe thead th {\n",
       "        text-align: right;\n",
       "    }\n",
       "</style>\n",
       "<table border=\"1\" class=\"dataframe\">\n",
       "  <thead>\n",
       "    <tr style=\"text-align: right;\">\n",
       "      <th></th>\n",
       "      <th>RowNumber</th>\n",
       "      <th>CustomerId</th>\n",
       "      <th>Surname</th>\n",
       "      <th>CreditScore</th>\n",
       "      <th>Geography</th>\n",
       "      <th>Gender</th>\n",
       "      <th>Age</th>\n",
       "      <th>Tenure</th>\n",
       "      <th>Balance</th>\n",
       "      <th>NumOfProducts</th>\n",
       "      <th>HasCrCard</th>\n",
       "      <th>IsActiveMember</th>\n",
       "      <th>EstimatedSalary</th>\n",
       "      <th>Exited</th>\n",
       "    </tr>\n",
       "  </thead>\n",
       "  <tbody>\n",
       "    <tr>\n",
       "      <th>0</th>\n",
       "      <td>1</td>\n",
       "      <td>15634602</td>\n",
       "      <td>Hargrave</td>\n",
       "      <td>619</td>\n",
       "      <td>France</td>\n",
       "      <td>Female</td>\n",
       "      <td>42</td>\n",
       "      <td>2</td>\n",
       "      <td>0.00</td>\n",
       "      <td>1</td>\n",
       "      <td>1</td>\n",
       "      <td>1</td>\n",
       "      <td>101348.88</td>\n",
       "      <td>1</td>\n",
       "    </tr>\n",
       "    <tr>\n",
       "      <th>1</th>\n",
       "      <td>2</td>\n",
       "      <td>15647311</td>\n",
       "      <td>Hill</td>\n",
       "      <td>608</td>\n",
       "      <td>Spain</td>\n",
       "      <td>Female</td>\n",
       "      <td>41</td>\n",
       "      <td>1</td>\n",
       "      <td>83807.86</td>\n",
       "      <td>1</td>\n",
       "      <td>0</td>\n",
       "      <td>1</td>\n",
       "      <td>112542.58</td>\n",
       "      <td>0</td>\n",
       "    </tr>\n",
       "    <tr>\n",
       "      <th>2</th>\n",
       "      <td>3</td>\n",
       "      <td>15619304</td>\n",
       "      <td>Onio</td>\n",
       "      <td>502</td>\n",
       "      <td>France</td>\n",
       "      <td>Female</td>\n",
       "      <td>42</td>\n",
       "      <td>8</td>\n",
       "      <td>159660.80</td>\n",
       "      <td>3</td>\n",
       "      <td>1</td>\n",
       "      <td>0</td>\n",
       "      <td>113931.57</td>\n",
       "      <td>1</td>\n",
       "    </tr>\n",
       "    <tr>\n",
       "      <th>3</th>\n",
       "      <td>4</td>\n",
       "      <td>15701354</td>\n",
       "      <td>Boni</td>\n",
       "      <td>699</td>\n",
       "      <td>France</td>\n",
       "      <td>Female</td>\n",
       "      <td>39</td>\n",
       "      <td>1</td>\n",
       "      <td>0.00</td>\n",
       "      <td>2</td>\n",
       "      <td>0</td>\n",
       "      <td>0</td>\n",
       "      <td>93826.63</td>\n",
       "      <td>0</td>\n",
       "    </tr>\n",
       "    <tr>\n",
       "      <th>4</th>\n",
       "      <td>5</td>\n",
       "      <td>15737888</td>\n",
       "      <td>Mitchell</td>\n",
       "      <td>850</td>\n",
       "      <td>Spain</td>\n",
       "      <td>Female</td>\n",
       "      <td>43</td>\n",
       "      <td>2</td>\n",
       "      <td>125510.82</td>\n",
       "      <td>1</td>\n",
       "      <td>1</td>\n",
       "      <td>1</td>\n",
       "      <td>79084.10</td>\n",
       "      <td>0</td>\n",
       "    </tr>\n",
       "  </tbody>\n",
       "</table>\n",
       "</div>"
      ],
      "text/plain": [
       "   RowNumber  CustomerId   Surname  CreditScore Geography  Gender  Age  \\\n",
       "0          1    15634602  Hargrave          619    France  Female   42   \n",
       "1          2    15647311      Hill          608     Spain  Female   41   \n",
       "2          3    15619304      Onio          502    France  Female   42   \n",
       "3          4    15701354      Boni          699    France  Female   39   \n",
       "4          5    15737888  Mitchell          850     Spain  Female   43   \n",
       "\n",
       "   Tenure    Balance  NumOfProducts  HasCrCard  IsActiveMember  \\\n",
       "0       2       0.00              1          1               1   \n",
       "1       1   83807.86              1          0               1   \n",
       "2       8  159660.80              3          1               0   \n",
       "3       1       0.00              2          0               0   \n",
       "4       2  125510.82              1          1               1   \n",
       "\n",
       "   EstimatedSalary  Exited  \n",
       "0        101348.88       1  \n",
       "1        112542.58       0  \n",
       "2        113931.57       1  \n",
       "3         93826.63       0  \n",
       "4         79084.10       0  "
      ]
     },
     "execution_count": 214,
     "metadata": {},
     "output_type": "execute_result"
    }
   ],
   "source": [
    "#Import bank customres churn dataset \n",
    "df=pd.read_csv(\"churn.csv\")\n",
    "df.head()"
   ]
  },
  {
   "cell_type": "code",
   "execution_count": 215,
   "metadata": {},
   "outputs": [
    {
     "data": {
      "text/html": [
       "<div>\n",
       "<style scoped>\n",
       "    .dataframe tbody tr th:only-of-type {\n",
       "        vertical-align: middle;\n",
       "    }\n",
       "\n",
       "    .dataframe tbody tr th {\n",
       "        vertical-align: top;\n",
       "    }\n",
       "\n",
       "    .dataframe thead th {\n",
       "        text-align: right;\n",
       "    }\n",
       "</style>\n",
       "<table border=\"1\" class=\"dataframe\">\n",
       "  <thead>\n",
       "    <tr style=\"text-align: right;\">\n",
       "      <th></th>\n",
       "      <th>CreditScore</th>\n",
       "      <th>Geography</th>\n",
       "      <th>Gender</th>\n",
       "      <th>Age</th>\n",
       "      <th>Tenure</th>\n",
       "      <th>Balance</th>\n",
       "      <th>NumOfProducts</th>\n",
       "      <th>HasCrCard</th>\n",
       "      <th>IsActiveMember</th>\n",
       "      <th>EstimatedSalary</th>\n",
       "      <th>Exited</th>\n",
       "    </tr>\n",
       "  </thead>\n",
       "  <tbody>\n",
       "    <tr>\n",
       "      <th>0</th>\n",
       "      <td>619</td>\n",
       "      <td>France</td>\n",
       "      <td>Female</td>\n",
       "      <td>42</td>\n",
       "      <td>2</td>\n",
       "      <td>0.00</td>\n",
       "      <td>1</td>\n",
       "      <td>1</td>\n",
       "      <td>1</td>\n",
       "      <td>101348.88</td>\n",
       "      <td>1</td>\n",
       "    </tr>\n",
       "    <tr>\n",
       "      <th>1</th>\n",
       "      <td>608</td>\n",
       "      <td>Spain</td>\n",
       "      <td>Female</td>\n",
       "      <td>41</td>\n",
       "      <td>1</td>\n",
       "      <td>83807.86</td>\n",
       "      <td>1</td>\n",
       "      <td>0</td>\n",
       "      <td>1</td>\n",
       "      <td>112542.58</td>\n",
       "      <td>0</td>\n",
       "    </tr>\n",
       "    <tr>\n",
       "      <th>2</th>\n",
       "      <td>502</td>\n",
       "      <td>France</td>\n",
       "      <td>Female</td>\n",
       "      <td>42</td>\n",
       "      <td>8</td>\n",
       "      <td>159660.80</td>\n",
       "      <td>3</td>\n",
       "      <td>1</td>\n",
       "      <td>0</td>\n",
       "      <td>113931.57</td>\n",
       "      <td>1</td>\n",
       "    </tr>\n",
       "    <tr>\n",
       "      <th>3</th>\n",
       "      <td>699</td>\n",
       "      <td>France</td>\n",
       "      <td>Female</td>\n",
       "      <td>39</td>\n",
       "      <td>1</td>\n",
       "      <td>0.00</td>\n",
       "      <td>2</td>\n",
       "      <td>0</td>\n",
       "      <td>0</td>\n",
       "      <td>93826.63</td>\n",
       "      <td>0</td>\n",
       "    </tr>\n",
       "    <tr>\n",
       "      <th>4</th>\n",
       "      <td>850</td>\n",
       "      <td>Spain</td>\n",
       "      <td>Female</td>\n",
       "      <td>43</td>\n",
       "      <td>2</td>\n",
       "      <td>125510.82</td>\n",
       "      <td>1</td>\n",
       "      <td>1</td>\n",
       "      <td>1</td>\n",
       "      <td>79084.10</td>\n",
       "      <td>0</td>\n",
       "    </tr>\n",
       "  </tbody>\n",
       "</table>\n",
       "</div>"
      ],
      "text/plain": [
       "   CreditScore Geography  Gender  Age  Tenure    Balance  NumOfProducts  \\\n",
       "0          619    France  Female   42       2       0.00              1   \n",
       "1          608     Spain  Female   41       1   83807.86              1   \n",
       "2          502    France  Female   42       8  159660.80              3   \n",
       "3          699    France  Female   39       1       0.00              2   \n",
       "4          850     Spain  Female   43       2  125510.82              1   \n",
       "\n",
       "   HasCrCard  IsActiveMember  EstimatedSalary  Exited  \n",
       "0          1               1        101348.88       1  \n",
       "1          0               1        112542.58       0  \n",
       "2          1               0        113931.57       1  \n",
       "3          0               0         93826.63       0  \n",
       "4          1               1         79084.10       0  "
      ]
     },
     "execution_count": 215,
     "metadata": {},
     "output_type": "execute_result"
    }
   ],
   "source": [
    "#Drop irrelivent columns with no use to the analysis\n",
    "df.drop(['RowNumber', 'CustomerId', 'Surname'], axis=1, inplace=True)\n",
    "df.head()"
   ]
  },
  {
   "cell_type": "markdown",
   "metadata": {},
   "source": [
    "After removing some columns that add no value to the project (RowNumber, CustomerID & Surname) we are left with the following:\n",
    "\n",
    "**Target Variable**\\\n",
    "•**Exited**: did the customer leave the bank?\n",
    "\n",
    "**Predictors**\\\n",
    "•**CreditScore**: customers credit score\\\n",
    "•**Geography**: country customer lives in\\\n",
    "•**Gender**: Male of Female\\\n",
    "•**Age**\\\n",
    "•**Tenure**: how long has the customer been with the bank?\\\n",
    "•**Balance**: how much money is in their account?\\\n",
    "•**NumOfProducts**: number of products the customer has purchased through the bank\\\n",
    "•**HasCrCard**: does the customer have a credit card?\\\n",
    "•**IsActiveMember**: do they use their account often?\\\n",
    "•**EstimatedSalary**: banks judgment on their annual salary\\"
   ]
  },
  {
   "cell_type": "markdown",
   "metadata": {},
   "source": [
    "### 3. Descriptive Statistics on the Dataset"
   ]
  },
  {
   "cell_type": "code",
   "execution_count": 216,
   "metadata": {},
   "outputs": [
    {
     "name": "stdout",
     "output_type": "stream",
     "text": [
      "The dataset is made up of 10000 rows and 11 columns.\n"
     ]
    }
   ],
   "source": [
    "#Check the size and shape of the dataset\n",
    "print(f'The dataset is made up of {df.shape[0]} rows and {df.shape[1]} columns.')"
   ]
  },
  {
   "cell_type": "code",
   "execution_count": 217,
   "metadata": {},
   "outputs": [
    {
     "name": "stdout",
     "output_type": "stream",
     "text": [
      "<class 'pandas.core.frame.DataFrame'>\n",
      "RangeIndex: 10000 entries, 0 to 9999\n",
      "Data columns (total 11 columns):\n",
      " #   Column           Non-Null Count  Dtype  \n",
      "---  ------           --------------  -----  \n",
      " 0   CreditScore      10000 non-null  int64  \n",
      " 1   Geography        10000 non-null  object \n",
      " 2   Gender           10000 non-null  object \n",
      " 3   Age              10000 non-null  int64  \n",
      " 4   Tenure           10000 non-null  int64  \n",
      " 5   Balance          10000 non-null  float64\n",
      " 6   NumOfProducts    10000 non-null  int64  \n",
      " 7   HasCrCard        10000 non-null  int64  \n",
      " 8   IsActiveMember   10000 non-null  int64  \n",
      " 9   EstimatedSalary  10000 non-null  float64\n",
      " 10  Exited           10000 non-null  int64  \n",
      "dtypes: float64(2), int64(7), object(2)\n",
      "memory usage: 859.5+ KB\n"
     ]
    }
   ],
   "source": [
    "#Display some information on the variables within the dataset\n",
    "df.info()"
   ]
  },
  {
   "cell_type": "code",
   "execution_count": 218,
   "metadata": {},
   "outputs": [
    {
     "data": {
      "text/html": [
       "<div>\n",
       "<style scoped>\n",
       "    .dataframe tbody tr th:only-of-type {\n",
       "        vertical-align: middle;\n",
       "    }\n",
       "\n",
       "    .dataframe tbody tr th {\n",
       "        vertical-align: top;\n",
       "    }\n",
       "\n",
       "    .dataframe thead th {\n",
       "        text-align: right;\n",
       "    }\n",
       "</style>\n",
       "<table border=\"1\" class=\"dataframe\">\n",
       "  <thead>\n",
       "    <tr style=\"text-align: right;\">\n",
       "      <th></th>\n",
       "      <th>CreditScore</th>\n",
       "      <th>Age</th>\n",
       "      <th>Tenure</th>\n",
       "      <th>Balance</th>\n",
       "      <th>NumOfProducts</th>\n",
       "      <th>HasCrCard</th>\n",
       "      <th>IsActiveMember</th>\n",
       "      <th>EstimatedSalary</th>\n",
       "      <th>Exited</th>\n",
       "    </tr>\n",
       "  </thead>\n",
       "  <tbody>\n",
       "    <tr>\n",
       "      <th>count</th>\n",
       "      <td>10000.000</td>\n",
       "      <td>10000.000</td>\n",
       "      <td>10000.000</td>\n",
       "      <td>10000.000</td>\n",
       "      <td>10000.000</td>\n",
       "      <td>10000.000</td>\n",
       "      <td>10000.000</td>\n",
       "      <td>10000.000</td>\n",
       "      <td>10000.000</td>\n",
       "    </tr>\n",
       "    <tr>\n",
       "      <th>mean</th>\n",
       "      <td>650.529</td>\n",
       "      <td>38.922</td>\n",
       "      <td>5.013</td>\n",
       "      <td>76485.889</td>\n",
       "      <td>1.530</td>\n",
       "      <td>0.706</td>\n",
       "      <td>0.515</td>\n",
       "      <td>100090.240</td>\n",
       "      <td>0.204</td>\n",
       "    </tr>\n",
       "    <tr>\n",
       "      <th>std</th>\n",
       "      <td>96.653</td>\n",
       "      <td>10.488</td>\n",
       "      <td>2.892</td>\n",
       "      <td>62397.405</td>\n",
       "      <td>0.582</td>\n",
       "      <td>0.456</td>\n",
       "      <td>0.500</td>\n",
       "      <td>57510.493</td>\n",
       "      <td>0.403</td>\n",
       "    </tr>\n",
       "    <tr>\n",
       "      <th>min</th>\n",
       "      <td>350.000</td>\n",
       "      <td>18.000</td>\n",
       "      <td>0.000</td>\n",
       "      <td>0.000</td>\n",
       "      <td>1.000</td>\n",
       "      <td>0.000</td>\n",
       "      <td>0.000</td>\n",
       "      <td>11.580</td>\n",
       "      <td>0.000</td>\n",
       "    </tr>\n",
       "    <tr>\n",
       "      <th>25%</th>\n",
       "      <td>584.000</td>\n",
       "      <td>32.000</td>\n",
       "      <td>3.000</td>\n",
       "      <td>0.000</td>\n",
       "      <td>1.000</td>\n",
       "      <td>0.000</td>\n",
       "      <td>0.000</td>\n",
       "      <td>51002.110</td>\n",
       "      <td>0.000</td>\n",
       "    </tr>\n",
       "    <tr>\n",
       "      <th>50%</th>\n",
       "      <td>652.000</td>\n",
       "      <td>37.000</td>\n",
       "      <td>5.000</td>\n",
       "      <td>97198.540</td>\n",
       "      <td>1.000</td>\n",
       "      <td>1.000</td>\n",
       "      <td>1.000</td>\n",
       "      <td>100193.915</td>\n",
       "      <td>0.000</td>\n",
       "    </tr>\n",
       "    <tr>\n",
       "      <th>75%</th>\n",
       "      <td>718.000</td>\n",
       "      <td>44.000</td>\n",
       "      <td>7.000</td>\n",
       "      <td>127644.240</td>\n",
       "      <td>2.000</td>\n",
       "      <td>1.000</td>\n",
       "      <td>1.000</td>\n",
       "      <td>149388.248</td>\n",
       "      <td>0.000</td>\n",
       "    </tr>\n",
       "    <tr>\n",
       "      <th>max</th>\n",
       "      <td>850.000</td>\n",
       "      <td>92.000</td>\n",
       "      <td>10.000</td>\n",
       "      <td>250898.090</td>\n",
       "      <td>4.000</td>\n",
       "      <td>1.000</td>\n",
       "      <td>1.000</td>\n",
       "      <td>199992.480</td>\n",
       "      <td>1.000</td>\n",
       "    </tr>\n",
       "  </tbody>\n",
       "</table>\n",
       "</div>"
      ],
      "text/plain": [
       "       CreditScore        Age     Tenure     Balance  NumOfProducts  \\\n",
       "count    10000.000  10000.000  10000.000   10000.000      10000.000   \n",
       "mean       650.529     38.922      5.013   76485.889          1.530   \n",
       "std         96.653     10.488      2.892   62397.405          0.582   \n",
       "min        350.000     18.000      0.000       0.000          1.000   \n",
       "25%        584.000     32.000      3.000       0.000          1.000   \n",
       "50%        652.000     37.000      5.000   97198.540          1.000   \n",
       "75%        718.000     44.000      7.000  127644.240          2.000   \n",
       "max        850.000     92.000     10.000  250898.090          4.000   \n",
       "\n",
       "       HasCrCard  IsActiveMember  EstimatedSalary     Exited  \n",
       "count  10000.000       10000.000        10000.000  10000.000  \n",
       "mean       0.706           0.515       100090.240      0.204  \n",
       "std        0.456           0.500        57510.493      0.403  \n",
       "min        0.000           0.000           11.580      0.000  \n",
       "25%        0.000           0.000        51002.110      0.000  \n",
       "50%        1.000           1.000       100193.915      0.000  \n",
       "75%        1.000           1.000       149388.248      0.000  \n",
       "max        1.000           1.000       199992.480      1.000  "
      ]
     },
     "execution_count": 218,
     "metadata": {},
     "output_type": "execute_result"
    }
   ],
   "source": [
    "#Display some initial descriptive statistics\n",
    "round(df.describe(),3)"
   ]
  },
  {
   "cell_type": "code",
   "execution_count": 219,
   "metadata": {},
   "outputs": [
    {
     "data": {
      "text/plain": [
       "Text(0.5, 1.0, 'Only 25.58% of Customers in the Dataset Exited')"
      ]
     },
     "execution_count": 219,
     "metadata": {},
     "output_type": "execute_result"
    },
    {
     "data": {
      "image/png": "[encoded data removed]",
      "text/plain": [
       "<Figure size 432x288 with 1 Axes>"
      ]
     },
     "metadata": {
      "needs_background": "light"
     },
     "output_type": "display_data"
    }
   ],
   "source": [
    "#Look at the level of churn within the dataset\n",
    "exit_plot = df.Exited.value_counts().plot.bar(rot=0)\n",
    "a = df.Exited.value_counts()[0]\n",
    "b = df.Exited.value_counts()[1]\n",
    "exit_plot.set_title(f'Only {round((b/a)*100,2)}% of Customers in the Dataset Exited')"
   ]
  },
  {
   "cell_type": "markdown",
   "metadata": {},
   "source": [
    "Please take a moment to look over the basic descriptive statitics of the dataset above. These are purely descriptive and in no way aim to 'explore' the data as would be innapropriate before splitting into train and test segments. \n",
    "\n",
    "From the above descriptive statstics table we can conclude that , an equal count in all fields (10,000) indicates that there is no missing values in this dataset.Since **std** is less than **mean** in all fields this means that the data in this dataset is clustred around the mean in all given fields so the observations are not widely spread out in all coulumns. The range of  observation (Diffirence between maximum and minimum values) and also the variation between 25% , 50% and 75% of the data in the dataset is not consdirable high in most fields except of Balance and Estimated salary fileds , **this indicates that the data is aligned with no outliers**.\n",
    "\n",
    "The main thing to take away here is that 25.58% of the instances were those of a customer who churned from the bank, this is important to note as it influences how to apply stratified sampling in the next stage. \n",
    "\n",
    "The average tenure with the bank is just over five years and the average age is just under 40. Over 70% of the dataset has a credit card with the bank and just over half are defined as an active memeber. The mean estimated salary for the dataset is over €100,000 which is quite high, the standard deviation here is high too indicating high veriability."
   ]
  },
  {
   "cell_type": "markdown",
   "metadata": {},
   "source": [
    "### 4. Train & Test Split"
   ]
  },
  {
   "cell_type": "markdown",
   "metadata": {},
   "source": [
    "#### 4.1. Random Sampling"
   ]
  },
  {
   "cell_type": "code",
   "execution_count": 220,
   "metadata": {},
   "outputs": [
    {
     "name": "stdout",
     "output_type": "stream",
     "text": [
      "There are 8000 training instances and 2000 testing instances\n"
     ]
    }
   ],
   "source": [
    "#Split into test and train via random sampling\n",
    "random_train_set, random_test_set = train_test_split(df, test_size = 0.2, random_state = 7)\n",
    "print(f'There are {random_train_set.shape[0]} training instances and {random_test_set.shape[0]} testing instances')"
   ]
  },
  {
   "cell_type": "code",
   "execution_count": 221,
   "metadata": {},
   "outputs": [
    {
     "name": "stdout",
     "output_type": "stream",
     "text": [
      " The level of churn in the training data is 25.51% and in thetest data it is 25.87%\n"
     ]
    }
   ],
   "source": [
    "#Examine if our target variable is evenly distributed via the use of random sampling\n",
    "exit_train = random_train_set['Exited'].value_counts()[1]/random_train_set['Exited'].value_counts()[0]*100\n",
    "exit_test = random_test_set['Exited'].value_counts()[1]/random_test_set['Exited'].value_counts()[0]*100\n",
    "print(f' The level of churn in the training data is {round(exit_train,2)}% and in the\\\n",
    "test data it is {round(exit_test,2)}%')"
   ]
  },
  {
   "cell_type": "markdown",
   "metadata": {},
   "source": [
    "#### 4.2. Stratified Sampling"
   ]
  },
  {
   "cell_type": "code",
   "execution_count": 222,
   "metadata": {},
   "outputs": [],
   "source": [
    "#Use stratified split to try get a more representative train/test churn split\n",
    "stratified_splitter=StratifiedShuffleSplit(n_splits=1, test_size=0.2, random_state=5)\n",
    "train_index ,test_index=list(stratified_splitter.split(df ,df[\"Exited\"]))[0]\n",
    "train_set=df.loc[train_index]\n",
    "test_set=df.loc[test_index]"
   ]
  },
  {
   "cell_type": "code",
   "execution_count": 223,
   "metadata": {},
   "outputs": [
    {
     "data": {
      "text/html": [
       "<div>\n",
       "<style scoped>\n",
       "    .dataframe tbody tr th:only-of-type {\n",
       "        vertical-align: middle;\n",
       "    }\n",
       "\n",
       "    .dataframe tbody tr th {\n",
       "        vertical-align: top;\n",
       "    }\n",
       "\n",
       "    .dataframe thead th {\n",
       "        text-align: right;\n",
       "    }\n",
       "</style>\n",
       "<table border=\"1\" class=\"dataframe\">\n",
       "  <thead>\n",
       "    <tr style=\"text-align: right;\">\n",
       "      <th></th>\n",
       "      <th>Overall</th>\n",
       "      <th>Random test set</th>\n",
       "      <th>Stratified test set</th>\n",
       "      <th>Rand. %error</th>\n",
       "      <th>Strat. %error</th>\n",
       "    </tr>\n",
       "  </thead>\n",
       "  <tbody>\n",
       "    <tr>\n",
       "      <th>0</th>\n",
       "      <td>0.7963</td>\n",
       "      <td>0.1589</td>\n",
       "      <td>0.1593</td>\n",
       "      <td>0.199548</td>\n",
       "      <td>0.200050</td>\n",
       "    </tr>\n",
       "    <tr>\n",
       "      <th>1</th>\n",
       "      <td>0.2037</td>\n",
       "      <td>0.0411</td>\n",
       "      <td>0.0407</td>\n",
       "      <td>0.201767</td>\n",
       "      <td>0.199804</td>\n",
       "    </tr>\n",
       "  </tbody>\n",
       "</table>\n",
       "</div>"
      ],
      "text/plain": [
       "   Overall  Random test set  Stratified test set  Rand. %error  Strat. %error\n",
       "0   0.7963           0.1589               0.1593      0.199548       0.200050\n",
       "1   0.2037           0.0411               0.0407      0.201767       0.199804"
      ]
     },
     "execution_count": 223,
     "metadata": {},
     "output_type": "execute_result"
    }
   ],
   "source": [
    "def Exited_cat_proportions(data):\n",
    "    return data[\"Exited\"].value_counts() / len(df)\n",
    "\n",
    "# create a temporary dataframe for easy visualization\n",
    "df_tmp = pd.DataFrame({\n",
    "    \"Overall\": Exited_cat_proportions(df),\n",
    "    \"Random test set\": Exited_cat_proportions(random_test_set),\n",
    "    \"Stratified test set\": Exited_cat_proportions(test_set),\n",
    "}).sort_index()\n",
    "\n",
    "# add two columns for the percent of the difference to the overall proportion\n",
    "df_tmp[\"Rand. %error\"] = df_tmp[\"Random test set\"] / df_tmp[\"Overall\"]\n",
    "df_tmp[\"Strat. %error\"] = df_tmp[\"Stratified test set\"] / df_tmp[\"Overall\"]\n",
    "\n",
    "df_tmp"
   ]
  },
  {
   "cell_type": "code",
   "execution_count": 224,
   "metadata": {},
   "outputs": [
    {
     "name": "stdout",
     "output_type": "stream",
     "text": [
      "The error in random sampling is 0.4013 and the error in stratified sampling is 0.3999\n"
     ]
    }
   ],
   "source": [
    "#What method of sampling generated the best results?\n",
    "r_error = df_tmp['Rand. %error'].sum() \n",
    "s_error = df_tmp['Strat. %error'].sum()\n",
    "print(f'The error in random sampling is {round(r_error,4)} and the error in \\\n",
    "stratified sampling is {round(s_error,4)}')"
   ]
  },
  {
   "cell_type": "code",
   "execution_count": 225,
   "metadata": {},
   "outputs": [
    {
     "name": "stdout",
     "output_type": "stream",
     "text": [
      "The level of churn in our new stratified train data is 25.59% and in our test data is now 25.55% which is marginally closer than where random sampling was used.\n"
     ]
    }
   ],
   "source": [
    "exit_train_s = train_set['Exited'].value_counts()[1]/train_set['Exited'].value_counts()[0]*100\n",
    "exit_test_s = test_set['Exited'].value_counts()[1]/test_set['Exited'].value_counts()[0]*100\n",
    "print(f'The level of churn in our new stratified train data is {round(exit_train_s,2)}% and in our test data\\\n",
    " is now {round(exit_test_s,2)}% which is marginally closer than where random sampling was used.')"
   ]
  },
  {
   "cell_type": "markdown",
   "metadata": {},
   "source": [
    "***The code above details our sampling methods for this study.***\n",
    "\n",
    "First we used random sampling which gave us 25.51% of churn in the training data compared to 25.87% in the whole dataset. This is a pretty good result from random sampling, however to make sure our modelling is as acvcurate as possible, it is always best to attempt to make our training data as representative as possible. \n",
    "\n",
    "Therefore we went on to also do stratified sampling using the level of churn as our important variable to minimuse the difference in. Here we were able to get a level of churn equal to 25.59% in our training data and 25.55% in our testing data. \n",
    "\n",
    "We then went on to run some analysis comparing the two approaches and found that the error was slightly less with the stratified sampling approach. We have therefore chosen this data split to go ahead with and begin our exploratory analysis. "
   ]
  },
  {
   "cell_type": "markdown",
   "metadata": {},
   "source": [
    "### 5. Data Exploration"
   ]
  },
  {
   "cell_type": "code",
   "execution_count": 226,
   "metadata": {},
   "outputs": [
    {
     "data": {
      "text/plain": [
       "Text(0.5, 1.0, 'Most Customers in the Dataset are from France\\nGermans seem more likely to churn')"
      ]
     },
     "execution_count": 226,
     "metadata": {},
     "output_type": "execute_result"
    },
    {
     "data": {
      "image/png": "[encoded data removed]",
      "text/plain": [
       "<Figure size 432x288 with 1 Axes>"
      ]
     },
     "metadata": {
      "needs_background": "light"
     },
     "output_type": "display_data"
    }
   ],
   "source": [
    "#Showcase the geographical data on customers\n",
    "geog_churn = pd.crosstab(train_set['Geography'], train_set['Exited'])\n",
    "geog_churn_plot = geog_churn.plot.bar(stacked=True,rot=0)\n",
    "geog_churn_plot.set_title('Most Customers in the Dataset are from France\\nGermans seem more likely to churn')"
   ]
  },
  {
   "cell_type": "markdown",
   "metadata": {},
   "source": [
    "To begin our exploration, we can see that most of the training data is from France and it seems that there is some difference in churn across the three countries; It looks like more German customers churn than French and Spanish."
   ]
  },
  {
   "cell_type": "code",
   "execution_count": 227,
   "metadata": {},
   "outputs": [
    {
     "data": {
      "text/plain": [
       "Text(0.5, 1.0, 'Gender Frequencies are Relitivly Even within the Dataset\\nFemales leave slightly more')"
      ]
     },
     "execution_count": 227,
     "metadata": {},
     "output_type": "execute_result"
    },
    {
     "data": {
      "image/png": "[encoded data removed]",
      "text/plain": [
       "<Figure size 432x288 with 1 Axes>"
      ]
     },
     "metadata": {
      "needs_background": "light"
     },
     "output_type": "display_data"
    }
   ],
   "source": [
    "#Explore gender frequencies within the dataset\n",
    "gender_churn = pd.crosstab(train_set['Gender'], train_set['Exited'])\n",
    "gender_churn_plot = gender_churn.plot.bar(stacked=True,rot=0)\n",
    "gender_churn_plot.set_title('Gender Frequencies are Relitivly Even within the Dataset\\nFemales leave slightly more')"
   ]
  },
  {
   "cell_type": "markdown",
   "metadata": {},
   "source": [
    "Here we can see that there are slightly more males within the training data. Females seem to churn slightly more than males, however there isn't a huge amount of variation in churn rate between the two."
   ]
  },
  {
   "cell_type": "code",
   "execution_count": 228,
   "metadata": {},
   "outputs": [
    {
     "data": {
      "text/plain": [
       "Text(0.5, 1.0, 'The Large Majority of Cutomers in the Dataset have a Credit Card\\nNot too much variation in level of churn')"
      ]
     },
     "execution_count": 228,
     "metadata": {},
     "output_type": "execute_result"
    },
    {
     "data": {
      "image/png": "[encoded data removed]",
      "text/plain": [
       "<Figure size 432x288 with 1 Axes>"
      ]
     },
     "metadata": {
      "needs_background": "light"
     },
     "output_type": "display_data"
    }
   ],
   "source": [
    "#Explore the level of customers in the dataset who own a credit card\n",
    "card_churn = pd.crosstab(train_set['HasCrCard'], train_set['Exited'])\n",
    "card_churn_plot = card_churn.plot.bar(stacked=True,rot=0)\n",
    "card_churn_plot.set_title('The Large Majority of Cutomers in the Dataset have a Credit Card\\nNot too much variation\\\n",
    " in level of churn')"
   ]
  },
  {
   "cell_type": "markdown",
   "metadata": {},
   "source": [
    "The majority of customers in the training data have a credit card with the bank. It doesn't seem to have the effect on churn as we might have thought. If anything it looks like those with a credit card leave slightly more than those without one."
   ]
  },
  {
   "cell_type": "code",
   "execution_count": 229,
   "metadata": {},
   "outputs": [
    {
     "data": {
      "text/plain": [
       "Text(0.5, 1.0, 'The dataset is Evenly Split Between Active & Non-active Members \\nLess likely to churn if active member')"
      ]
     },
     "execution_count": 229,
     "metadata": {},
     "output_type": "execute_result"
    },
    {
     "data": {
      "image/png": "[encoded data removed]",
      "text/plain": [
       "<Figure size 432x288 with 1 Axes>"
      ]
     },
     "metadata": {
      "needs_background": "light"
     },
     "output_type": "display_data"
    }
   ],
   "source": [
    "#look at the frequencies of active and non-active members in the dataset\n",
    "active_churn_table = pd.crosstab(train_set['IsActiveMember'],train_set['Exited'])\n",
    "active_churn_plot = active_churn_table.plot.bar(stacked=True, rot=0)\n",
    "active_churn_plot.set_title('The dataset is Evenly Split Between Active & Non-active Members \\n\\\n",
    "Less likely to churn if active member')"
   ]
  },
  {
   "cell_type": "markdown",
   "metadata": {},
   "source": [
    "The training data is split relitively evenly between active and non-active members. As you would expect non-active members seem to churn slightly more than active customers."
   ]
  },
  {
   "cell_type": "code",
   "execution_count": 230,
   "metadata": {},
   "outputs": [
    {
     "data": {
      "text/plain": [
       "array([[<AxesSubplot:title={'center':'CreditScore'}>,\n",
       "        <AxesSubplot:title={'center':'Age'}>],\n",
       "       [<AxesSubplot:title={'center':'Tenure'}>,\n",
       "        <AxesSubplot:title={'center':'Balance'}>],\n",
       "       [<AxesSubplot:title={'center':'NumOfProducts'}>,\n",
       "        <AxesSubplot:title={'center':'EstimatedSalary'}>]], dtype=object)"
      ]
     },
     "execution_count": 230,
     "metadata": {},
     "output_type": "execute_result"
    },
    {
     "data": {
      "image/png": "[encoded data removed]",
      "text/plain": [
       "<Figure size 720x720 with 6 Axes>"
      ]
     },
     "metadata": {
      "needs_background": "light"
     },
     "output_type": "display_data"
    }
   ],
   "source": [
    "train_set[['CreditScore','Age','Tenure','Balance',\\\n",
    "         'NumOfProducts','EstimatedSalary']].hist(bins=10, figsize=(10,10))"
   ]
  },
  {
   "cell_type": "markdown",
   "metadata": {},
   "source": [
    "The above matrix of histograms shows us more-or-less what we want to see across most of our continuous fields.\n",
    "\n",
    "CreditScore, Age, Tenure & EstimatedSalary all appear normally distributed. Age is skewed slightly to the right, and tenure slightly to the left. However, nothing here is of issue to the extend that we need to alter the data.\n",
    "\n",
    "There is a slight issue with the Balance field. As there are two groups of customers, ones with money in the bank, and ones without any, it means there is a normally distributed group in the middle, and then a cluster of customers at 0. We cannot just ignore these customers as it's about half of our dataset, and those with no money in the bank might be more likely to churn. Instead we will leave it as it is and enginieer a new variable later."
   ]
  },
  {
   "cell_type": "code",
   "execution_count": 231,
   "metadata": {},
   "outputs": [
    {
     "data": {
      "text/plain": [
       "Exited             1.000000\n",
       "Age                0.283000\n",
       "Balance            0.118719\n",
       "EstimatedSalary    0.014987\n",
       "Tenure            -0.009943\n",
       "HasCrCard         -0.010808\n",
       "CreditScore       -0.025217\n",
       "NumOfProducts     -0.049742\n",
       "IsActiveMember    -0.150441\n",
       "Name: Exited, dtype: float64"
      ]
     },
     "execution_count": 231,
     "metadata": {},
     "output_type": "execute_result"
    }
   ],
   "source": [
    "#Here's the Pearson's R score, useful to know, but only measures linear relationships!\n",
    "cor_matrix = train_set.corr()\n",
    "cor_matrix['Exited'].sort_values(ascending=False)"
   ]
  },
  {
   "cell_type": "markdown",
   "metadata": {},
   "source": [
    "In the correlation matrix above you can see that Age and Balance are the strongest positive association to churn. This means the older a customer (and the more money they have in the bank) the more likely they are to churn. On the other hand if the customer is an active member then they are less likely to churn.\n",
    "\n",
    "It must be said that there aren't any strong relationships, all of these are weak, however they might have some predictive power when all combined in the models to come."
   ]
  },
  {
   "cell_type": "code",
   "execution_count": 232,
   "metadata": {},
   "outputs": [
    {
     "data": {
      "image/png": "[encoded data removed]",
      "text/plain": [
       "<Figure size 864x576 with 16 Axes>"
      ]
     },
     "metadata": {
      "needs_background": "light"
     },
     "output_type": "display_data"
    }
   ],
   "source": [
    "#Scatter Matrix (check for multicolinearity)\n",
    "from pandas.plotting import scatter_matrix\n",
    "attributes = ['Exited', 'Age', 'Balance', 'EstimatedSalary']\n",
    "scat_matrix = scatter_matrix(train_set[attributes], figsize=(12,8), alpha=0.3)"
   ]
  },
  {
   "cell_type": "markdown",
   "metadata": {},
   "source": [
    "bove is another correlation matrix, here showing how our predictors are related to eachother. This is good news as it shows no strong relationships that would indicate multicoliniarity and we therefore don't need to remove any columns."
   ]
  },
  {
   "cell_type": "markdown",
   "metadata": {},
   "source": [
    "### 6. Data Preprocessing"
   ]
  },
  {
   "cell_type": "markdown",
   "metadata": {},
   "source": [
    "#### 6.1. Dealing with Missing Data"
   ]
  },
  {
   "cell_type": "code",
   "execution_count": 233,
   "metadata": {},
   "outputs": [
    {
     "name": "stdout",
     "output_type": "stream",
     "text": [
      "The training data has 0 missing values and the test data has 0 missing data.\n"
     ]
    }
   ],
   "source": [
    "#Check for missing values\n",
    "null_train = train_set.isnull().sum()\n",
    "null_test = test_set.isnull().sum()\n",
    "print(f'The training data has {null_train.sum()} missing values and the test data has {null_test.sum()} \\\n",
    "missing data.')"
   ]
  },
  {
   "cell_type": "markdown",
   "metadata": {},
   "source": [
    "There wes no missing data within our dataset which meant we didn't need to worry about imputating or removing missing values."
   ]
  },
  {
   "cell_type": "markdown",
   "metadata": {},
   "source": [
    "#### 6.2. Feature Enginnering"
   ]
  },
  {
   "cell_type": "code",
   "execution_count": 234,
   "metadata": {},
   "outputs": [
    {
     "data": {
      "text/plain": [
       "1    4398\n",
       "0    3602\n",
       "Name: Gender, dtype: int64"
      ]
     },
     "execution_count": 234,
     "metadata": {},
     "output_type": "execute_result"
    }
   ],
   "source": [
    "#Convert Gender variable to take binary variables only: Male=1 & Female=0\n",
    "#Firt create a function that converts a gender variable (string) into a binary variable\n",
    "def gender_binary (df):\n",
    "    if df['Gender'] == 'Male':\n",
    "        df['Gender'] = 1\n",
    "    else:\n",
    "        df['Gender'] = 0\n",
    "    return df\n",
    "\n",
    "#Now use the apply() function to fit this to first the train_set and then the test_set\n",
    "train_set = train_set.apply(gender_binary, axis=1)\n",
    "test_set = test_set.apply(gender_binary, axis=1)\n",
    "\n",
    "#Now check that the function worked as intended\n",
    "train_set['Gender'].value_counts()"
   ]
  },
  {
   "cell_type": "code",
   "execution_count": 235,
   "metadata": {},
   "outputs": [
    {
     "data": {
      "text/html": [
       "<div>\n",
       "<style scoped>\n",
       "    .dataframe tbody tr th:only-of-type {\n",
       "        vertical-align: middle;\n",
       "    }\n",
       "\n",
       "    .dataframe tbody tr th {\n",
       "        vertical-align: top;\n",
       "    }\n",
       "\n",
       "    .dataframe thead th {\n",
       "        text-align: right;\n",
       "    }\n",
       "</style>\n",
       "<table border=\"1\" class=\"dataframe\">\n",
       "  <thead>\n",
       "    <tr style=\"text-align: right;\">\n",
       "      <th></th>\n",
       "      <th>CreditScore</th>\n",
       "      <th>Geography</th>\n",
       "      <th>Gender</th>\n",
       "      <th>Age</th>\n",
       "      <th>Tenure</th>\n",
       "      <th>Balance</th>\n",
       "      <th>NumOfProducts</th>\n",
       "      <th>HasCrCard</th>\n",
       "      <th>IsActiveMember</th>\n",
       "      <th>EstimatedSalary</th>\n",
       "      <th>Exited</th>\n",
       "      <th>Germany</th>\n",
       "      <th>Spain</th>\n",
       "    </tr>\n",
       "  </thead>\n",
       "  <tbody>\n",
       "    <tr>\n",
       "      <th>7378</th>\n",
       "      <td>599</td>\n",
       "      <td>France</td>\n",
       "      <td>1</td>\n",
       "      <td>34</td>\n",
       "      <td>8</td>\n",
       "      <td>0.00</td>\n",
       "      <td>2</td>\n",
       "      <td>1</td>\n",
       "      <td>1</td>\n",
       "      <td>174196.68</td>\n",
       "      <td>0</td>\n",
       "      <td>0.0</td>\n",
       "      <td>0.0</td>\n",
       "    </tr>\n",
       "    <tr>\n",
       "      <th>2489</th>\n",
       "      <td>714</td>\n",
       "      <td>France</td>\n",
       "      <td>1</td>\n",
       "      <td>28</td>\n",
       "      <td>6</td>\n",
       "      <td>122724.37</td>\n",
       "      <td>1</td>\n",
       "      <td>1</td>\n",
       "      <td>1</td>\n",
       "      <td>67057.27</td>\n",
       "      <td>0</td>\n",
       "      <td>0.0</td>\n",
       "      <td>0.0</td>\n",
       "    </tr>\n",
       "    <tr>\n",
       "      <th>3843</th>\n",
       "      <td>783</td>\n",
       "      <td>Spain</td>\n",
       "      <td>1</td>\n",
       "      <td>38</td>\n",
       "      <td>1</td>\n",
       "      <td>0.00</td>\n",
       "      <td>3</td>\n",
       "      <td>1</td>\n",
       "      <td>1</td>\n",
       "      <td>80178.54</td>\n",
       "      <td>1</td>\n",
       "      <td>0.0</td>\n",
       "      <td>1.0</td>\n",
       "    </tr>\n",
       "    <tr>\n",
       "      <th>4560</th>\n",
       "      <td>624</td>\n",
       "      <td>Spain</td>\n",
       "      <td>0</td>\n",
       "      <td>36</td>\n",
       "      <td>0</td>\n",
       "      <td>0.00</td>\n",
       "      <td>2</td>\n",
       "      <td>1</td>\n",
       "      <td>0</td>\n",
       "      <td>111605.90</td>\n",
       "      <td>0</td>\n",
       "      <td>0.0</td>\n",
       "      <td>1.0</td>\n",
       "    </tr>\n",
       "    <tr>\n",
       "      <th>1309</th>\n",
       "      <td>591</td>\n",
       "      <td>Spain</td>\n",
       "      <td>1</td>\n",
       "      <td>30</td>\n",
       "      <td>8</td>\n",
       "      <td>124857.69</td>\n",
       "      <td>2</td>\n",
       "      <td>0</td>\n",
       "      <td>0</td>\n",
       "      <td>50485.70</td>\n",
       "      <td>0</td>\n",
       "      <td>0.0</td>\n",
       "      <td>1.0</td>\n",
       "    </tr>\n",
       "  </tbody>\n",
       "</table>\n",
       "</div>"
      ],
      "text/plain": [
       "      CreditScore Geography  Gender  Age  Tenure    Balance  NumOfProducts  \\\n",
       "7378          599    France       1   34       8       0.00              2   \n",
       "2489          714    France       1   28       6  122724.37              1   \n",
       "3843          783     Spain       1   38       1       0.00              3   \n",
       "4560          624     Spain       0   36       0       0.00              2   \n",
       "1309          591     Spain       1   30       8  124857.69              2   \n",
       "\n",
       "      HasCrCard  IsActiveMember  EstimatedSalary  Exited  Germany  Spain  \n",
       "7378          1               1        174196.68       0      0.0    0.0  \n",
       "2489          1               1         67057.27       0      0.0    0.0  \n",
       "3843          1               1         80178.54       1      0.0    1.0  \n",
       "4560          1               0        111605.90       0      0.0    1.0  \n",
       "1309          0               0         50485.70       0      0.0    1.0  "
      ]
     },
     "execution_count": 235,
     "metadata": {},
     "output_type": "execute_result"
    }
   ],
   "source": [
    "#Now we need to convert the Geography variable into two seperate dummy variables taking binary values\n",
    "\n",
    "one_hot_encoder = OneHotEncoder(drop='first', sparse=False)\n",
    "\n",
    "#The encoder can only take a 2-d numpy array so we need to convert it as such\n",
    "cat_vals = train_set['Geography'].values.reshape(-1,1)\n",
    "\n",
    "#Now we need to fit and transform the trainset\n",
    "transformed = one_hot_encoder.fit_transform(cat_vals)\n",
    "\n",
    "#Now we must convert these values back into a dataframe and return to a column in our train_set\n",
    "col_names = one_hot_encoder.categories_[0].tolist()[1:]\n",
    "for i, col_name in enumerate(col_names):\n",
    "    train_set[col_name] = transformed[:,i]\n",
    "\n",
    "#Test to see it worked as intended\n",
    "train_set.head()"
   ]
  },
  {
   "cell_type": "code",
   "execution_count": 236,
   "metadata": {},
   "outputs": [
    {
     "data": {
      "text/html": [
       "<div>\n",
       "<style scoped>\n",
       "    .dataframe tbody tr th:only-of-type {\n",
       "        vertical-align: middle;\n",
       "    }\n",
       "\n",
       "    .dataframe tbody tr th {\n",
       "        vertical-align: top;\n",
       "    }\n",
       "\n",
       "    .dataframe thead th {\n",
       "        text-align: right;\n",
       "    }\n",
       "</style>\n",
       "<table border=\"1\" class=\"dataframe\">\n",
       "  <thead>\n",
       "    <tr style=\"text-align: right;\">\n",
       "      <th></th>\n",
       "      <th>CreditScore</th>\n",
       "      <th>Gender</th>\n",
       "      <th>Age</th>\n",
       "      <th>Tenure</th>\n",
       "      <th>Balance</th>\n",
       "      <th>NumOfProducts</th>\n",
       "      <th>HasCrCard</th>\n",
       "      <th>IsActiveMember</th>\n",
       "      <th>EstimatedSalary</th>\n",
       "      <th>Exited</th>\n",
       "      <th>Germany</th>\n",
       "      <th>Spain</th>\n",
       "    </tr>\n",
       "  </thead>\n",
       "  <tbody>\n",
       "    <tr>\n",
       "      <th>7378</th>\n",
       "      <td>599</td>\n",
       "      <td>1</td>\n",
       "      <td>34</td>\n",
       "      <td>8</td>\n",
       "      <td>0.00</td>\n",
       "      <td>2</td>\n",
       "      <td>1</td>\n",
       "      <td>1</td>\n",
       "      <td>174196.68</td>\n",
       "      <td>0</td>\n",
       "      <td>0.0</td>\n",
       "      <td>0.0</td>\n",
       "    </tr>\n",
       "    <tr>\n",
       "      <th>2489</th>\n",
       "      <td>714</td>\n",
       "      <td>1</td>\n",
       "      <td>28</td>\n",
       "      <td>6</td>\n",
       "      <td>122724.37</td>\n",
       "      <td>1</td>\n",
       "      <td>1</td>\n",
       "      <td>1</td>\n",
       "      <td>67057.27</td>\n",
       "      <td>0</td>\n",
       "      <td>0.0</td>\n",
       "      <td>0.0</td>\n",
       "    </tr>\n",
       "    <tr>\n",
       "      <th>3843</th>\n",
       "      <td>783</td>\n",
       "      <td>1</td>\n",
       "      <td>38</td>\n",
       "      <td>1</td>\n",
       "      <td>0.00</td>\n",
       "      <td>3</td>\n",
       "      <td>1</td>\n",
       "      <td>1</td>\n",
       "      <td>80178.54</td>\n",
       "      <td>1</td>\n",
       "      <td>0.0</td>\n",
       "      <td>1.0</td>\n",
       "    </tr>\n",
       "    <tr>\n",
       "      <th>4560</th>\n",
       "      <td>624</td>\n",
       "      <td>0</td>\n",
       "      <td>36</td>\n",
       "      <td>0</td>\n",
       "      <td>0.00</td>\n",
       "      <td>2</td>\n",
       "      <td>1</td>\n",
       "      <td>0</td>\n",
       "      <td>111605.90</td>\n",
       "      <td>0</td>\n",
       "      <td>0.0</td>\n",
       "      <td>1.0</td>\n",
       "    </tr>\n",
       "    <tr>\n",
       "      <th>1309</th>\n",
       "      <td>591</td>\n",
       "      <td>1</td>\n",
       "      <td>30</td>\n",
       "      <td>8</td>\n",
       "      <td>124857.69</td>\n",
       "      <td>2</td>\n",
       "      <td>0</td>\n",
       "      <td>0</td>\n",
       "      <td>50485.70</td>\n",
       "      <td>0</td>\n",
       "      <td>0.0</td>\n",
       "      <td>1.0</td>\n",
       "    </tr>\n",
       "  </tbody>\n",
       "</table>\n",
       "</div>"
      ],
      "text/plain": [
       "      CreditScore  Gender  Age  Tenure    Balance  NumOfProducts  HasCrCard  \\\n",
       "7378          599       1   34       8       0.00              2          1   \n",
       "2489          714       1   28       6  122724.37              1          1   \n",
       "3843          783       1   38       1       0.00              3          1   \n",
       "4560          624       0   36       0       0.00              2          1   \n",
       "1309          591       1   30       8  124857.69              2          0   \n",
       "\n",
       "      IsActiveMember  EstimatedSalary  Exited  Germany  Spain  \n",
       "7378               1        174196.68       0      0.0    0.0  \n",
       "2489               1         67057.27       0      0.0    0.0  \n",
       "3843               1         80178.54       1      0.0    1.0  \n",
       "4560               0        111605.90       0      0.0    1.0  \n",
       "1309               0         50485.70       0      0.0    1.0  "
      ]
     },
     "execution_count": 236,
     "metadata": {},
     "output_type": "execute_result"
    }
   ],
   "source": [
    "#Now we must transform the test set regarding dummer georgraphy variables\n",
    "cat_vals = test_set['Geography'].values.reshape(-1,1)\n",
    "transformed = one_hot_encoder.transform(cat_vals)\n",
    "for i, col_name in enumerate(col_names):\n",
    "    test_set[col_name] = transformed[:,i]\n",
    "    \n",
    "#Now we must drop the original geography variable from the train and test data\n",
    "train_set.drop('Geography', axis=1, inplace=True)\n",
    "test_set.drop('Geography', axis=1, inplace=True)\n",
    "train_set.head()"
   ]
  },
  {
   "cell_type": "code",
   "execution_count": 237,
   "metadata": {},
   "outputs": [
    {
     "data": {
      "text/plain": [
       "0.0    1315\n",
       "1.0     685\n",
       "Name: ZeroBalance, dtype: int64"
      ]
     },
     "execution_count": 237,
     "metadata": {},
     "output_type": "execute_result"
    }
   ],
   "source": [
    "#Now we need to create a new variable that is 1 Balance is Zero and 0 if not\n",
    "#Firt create a function that \n",
    "def new_feature_zb (df):\n",
    "    if df['Balance'] == 0:\n",
    "        df['ZeroBalance'] = 1\n",
    "    else:\n",
    "        df['ZeroBalance'] = 0\n",
    "    return df\n",
    "\n",
    "#Now use the apply() function to fit this to first the train_set and then the test_set\n",
    "train_set = train_set.apply(new_feature_zb, axis=1)\n",
    "test_set = test_set.apply(new_feature_zb, axis=1)\n",
    "\n",
    "#Now check that the function worked as intended\n",
    "test_set['ZeroBalance'].value_counts()"
   ]
  },
  {
   "cell_type": "markdown",
   "metadata": {},
   "source": [
    "Our feature engineering is made up of three main parts (1) binary conversion, (2) dummy variable creation, and (3) new predictor creation. \n",
    "\n",
    "1) First we had to convert the gender variable to binary, this is because most machine learning algorithms can only read numerical data, and all perform better when all predictors are in the same format and scale. We therefore created a function and used the apply() method to make male instances 1 and female 0.\n",
    "\n",
    "2) Next we needed to make dummy variables for the geography variable based on the same reasons as before. Here we use the OneHotEncoder() function. We first fit the model on our training data, and used that to transform the training data, and then the test data afterwards. We new have two new columns for Germany and Spain. If both are zero then this means the instance is a customer from France. \n",
    "\n",
    "3) Next we looked at how we can better the data itself, we know that there is a big difference between someone with €3 in their account and someone with €0 in their account. It's a difference of much more importance than two customers with €2,000 and €2,003 in their accounts. To showcase this imporatance to the model we have created a new variable which will take 1 if the customer has a balance of €0 and 0 if they have any value of money in their account.\n",
    "\n",
    "We have already defined that there were no outliers to remove so this was not neccessary in this stage of the analsysis."
   ]
  },
  {
   "cell_type": "markdown",
   "metadata": {},
   "source": [
    "#### 6.3. Scaling"
   ]
  },
  {
   "cell_type": "code",
   "execution_count": 238,
   "metadata": {},
   "outputs": [
    {
     "data": {
      "text/html": [
       "<div>\n",
       "<style scoped>\n",
       "    .dataframe tbody tr th:only-of-type {\n",
       "        vertical-align: middle;\n",
       "    }\n",
       "\n",
       "    .dataframe tbody tr th {\n",
       "        vertical-align: top;\n",
       "    }\n",
       "\n",
       "    .dataframe thead th {\n",
       "        text-align: right;\n",
       "    }\n",
       "</style>\n",
       "<table border=\"1\" class=\"dataframe\">\n",
       "  <thead>\n",
       "    <tr style=\"text-align: right;\">\n",
       "      <th></th>\n",
       "      <th>CreditScore</th>\n",
       "      <th>Gender</th>\n",
       "      <th>Age</th>\n",
       "      <th>Tenure</th>\n",
       "      <th>Balance</th>\n",
       "      <th>NumOfProducts</th>\n",
       "      <th>HasCrCard</th>\n",
       "      <th>IsActiveMember</th>\n",
       "      <th>EstimatedSalary</th>\n",
       "      <th>Germany</th>\n",
       "      <th>Spain</th>\n",
       "      <th>ZeroBalance</th>\n",
       "      <th>Exited</th>\n",
       "    </tr>\n",
       "  </thead>\n",
       "  <tbody>\n",
       "    <tr>\n",
       "      <th>0</th>\n",
       "      <td>-0.524454</td>\n",
       "      <td>0.904991</td>\n",
       "      <td>-0.475921</td>\n",
       "      <td>1.031255</td>\n",
       "      <td>-1.214708</td>\n",
       "      <td>0.807667</td>\n",
       "      <td>0.642401</td>\n",
       "      <td>0.969466</td>\n",
       "      <td>1.290892</td>\n",
       "      <td>-0.571962</td>\n",
       "      <td>-0.578120</td>\n",
       "      <td>1.314729</td>\n",
       "      <td>0.0</td>\n",
       "    </tr>\n",
       "    <tr>\n",
       "      <th>1</th>\n",
       "      <td>0.661770</td>\n",
       "      <td>0.904991</td>\n",
       "      <td>-1.048688</td>\n",
       "      <td>0.338440</td>\n",
       "      <td>0.753285</td>\n",
       "      <td>-0.913520</td>\n",
       "      <td>0.642401</td>\n",
       "      <td>0.969466</td>\n",
       "      <td>-0.576569</td>\n",
       "      <td>-0.571962</td>\n",
       "      <td>-0.578120</td>\n",
       "      <td>-0.760613</td>\n",
       "      <td>0.0</td>\n",
       "    </tr>\n",
       "    <tr>\n",
       "      <th>2</th>\n",
       "      <td>1.373504</td>\n",
       "      <td>0.904991</td>\n",
       "      <td>-0.094077</td>\n",
       "      <td>-1.393597</td>\n",
       "      <td>-1.214708</td>\n",
       "      <td>2.528854</td>\n",
       "      <td>0.642401</td>\n",
       "      <td>0.969466</td>\n",
       "      <td>-0.347863</td>\n",
       "      <td>-0.571962</td>\n",
       "      <td>1.729744</td>\n",
       "      <td>1.314729</td>\n",
       "      <td>1.0</td>\n",
       "    </tr>\n",
       "  </tbody>\n",
       "</table>\n",
       "</div>"
      ],
      "text/plain": [
       "   CreditScore    Gender       Age    Tenure   Balance  NumOfProducts  \\\n",
       "0    -0.524454  0.904991 -0.475921  1.031255 -1.214708       0.807667   \n",
       "1     0.661770  0.904991 -1.048688  0.338440  0.753285      -0.913520   \n",
       "2     1.373504  0.904991 -0.094077 -1.393597 -1.214708       2.528854   \n",
       "\n",
       "   HasCrCard  IsActiveMember  EstimatedSalary   Germany     Spain  \\\n",
       "0   0.642401        0.969466         1.290892 -0.571962 -0.578120   \n",
       "1   0.642401        0.969466        -0.576569 -0.571962 -0.578120   \n",
       "2   0.642401        0.969466        -0.347863 -0.571962  1.729744   \n",
       "\n",
       "   ZeroBalance  Exited  \n",
       "0     1.314729     0.0  \n",
       "1    -0.760613     0.0  \n",
       "2     1.314729     1.0  "
      ]
     },
     "execution_count": 238,
     "metadata": {},
     "output_type": "execute_result"
    }
   ],
   "source": [
    "#Now we will use the standard scaler to standardise our predicor variables\n",
    "scaler = StandardScaler()\n",
    "\n",
    "#Seperate train data predictors and target\n",
    "train_set_target = train_set['Exited'].values\n",
    "train_set_predictors = train_set.drop('Exited', axis=1)\n",
    "\n",
    "#Fit_transform returns a numpy array so we must put it back to a dataframe\n",
    "scaled_vals = scaler.fit_transform(train_set_predictors)\n",
    "train_set = pd.DataFrame(scaled_vals, columns=train_set_predictors.columns)\n",
    "\n",
    "#Now we must pup the non-scaled target variable (Exited) back \n",
    "train_set['Exited'] = train_set_target\n",
    "\n",
    "#Check the fit and transformation has worked as intended\n",
    "train_set.head(3)"
   ]
  },
  {
   "cell_type": "code",
   "execution_count": 239,
   "metadata": {},
   "outputs": [
    {
     "data": {
      "text/html": [
       "<div>\n",
       "<style scoped>\n",
       "    .dataframe tbody tr th:only-of-type {\n",
       "        vertical-align: middle;\n",
       "    }\n",
       "\n",
       "    .dataframe tbody tr th {\n",
       "        vertical-align: top;\n",
       "    }\n",
       "\n",
       "    .dataframe thead th {\n",
       "        text-align: right;\n",
       "    }\n",
       "</style>\n",
       "<table border=\"1\" class=\"dataframe\">\n",
       "  <thead>\n",
       "    <tr style=\"text-align: right;\">\n",
       "      <th></th>\n",
       "      <th>CreditScore</th>\n",
       "      <th>Gender</th>\n",
       "      <th>Age</th>\n",
       "      <th>Tenure</th>\n",
       "      <th>Balance</th>\n",
       "      <th>NumOfProducts</th>\n",
       "      <th>HasCrCard</th>\n",
       "      <th>IsActiveMember</th>\n",
       "      <th>EstimatedSalary</th>\n",
       "      <th>Germany</th>\n",
       "      <th>Spain</th>\n",
       "      <th>ZeroBalance</th>\n",
       "      <th>Exited</th>\n",
       "    </tr>\n",
       "  </thead>\n",
       "  <tbody>\n",
       "    <tr>\n",
       "      <th>0</th>\n",
       "      <td>-1.617843</td>\n",
       "      <td>-1.104983</td>\n",
       "      <td>-0.762304</td>\n",
       "      <td>-0.700782</td>\n",
       "      <td>-1.214708</td>\n",
       "      <td>-0.913520</td>\n",
       "      <td>0.642401</td>\n",
       "      <td>0.969466</td>\n",
       "      <td>1.332264</td>\n",
       "      <td>-0.571962</td>\n",
       "      <td>-0.57812</td>\n",
       "      <td>1.314729</td>\n",
       "      <td>1.0</td>\n",
       "    </tr>\n",
       "    <tr>\n",
       "      <th>1</th>\n",
       "      <td>1.507599</td>\n",
       "      <td>0.904991</td>\n",
       "      <td>0.001384</td>\n",
       "      <td>-0.007967</td>\n",
       "      <td>0.170004</td>\n",
       "      <td>0.807667</td>\n",
       "      <td>-1.556661</td>\n",
       "      <td>-1.031496</td>\n",
       "      <td>0.086183</td>\n",
       "      <td>1.748369</td>\n",
       "      <td>-0.57812</td>\n",
       "      <td>-0.760613</td>\n",
       "      <td>0.0</td>\n",
       "    </tr>\n",
       "    <tr>\n",
       "      <th>2</th>\n",
       "      <td>1.208465</td>\n",
       "      <td>-1.104983</td>\n",
       "      <td>-0.380460</td>\n",
       "      <td>0.338440</td>\n",
       "      <td>0.906089</td>\n",
       "      <td>-0.913520</td>\n",
       "      <td>0.642401</td>\n",
       "      <td>-1.031496</td>\n",
       "      <td>0.268957</td>\n",
       "      <td>1.748369</td>\n",
       "      <td>-0.57812</td>\n",
       "      <td>-0.760613</td>\n",
       "      <td>1.0</td>\n",
       "    </tr>\n",
       "  </tbody>\n",
       "</table>\n",
       "</div>"
      ],
      "text/plain": [
       "   CreditScore    Gender       Age    Tenure   Balance  NumOfProducts  \\\n",
       "0    -1.617843 -1.104983 -0.762304 -0.700782 -1.214708      -0.913520   \n",
       "1     1.507599  0.904991  0.001384 -0.007967  0.170004       0.807667   \n",
       "2     1.208465 -1.104983 -0.380460  0.338440  0.906089      -0.913520   \n",
       "\n",
       "   HasCrCard  IsActiveMember  EstimatedSalary   Germany    Spain  ZeroBalance  \\\n",
       "0   0.642401        0.969466         1.332264 -0.571962 -0.57812     1.314729   \n",
       "1  -1.556661       -1.031496         0.086183  1.748369 -0.57812    -0.760613   \n",
       "2   0.642401       -1.031496         0.268957  1.748369 -0.57812    -0.760613   \n",
       "\n",
       "   Exited  \n",
       "0     1.0  \n",
       "1     0.0  \n",
       "2     1.0  "
      ]
     },
     "execution_count": 239,
     "metadata": {},
     "output_type": "execute_result"
    }
   ],
   "source": [
    "#Now we must transform the test data\n",
    "test_set_target = test_set['Exited'].values\n",
    "test_set_predictors = test_set.drop('Exited', axis=1)\n",
    "scaled_vals = scaler.transform(test_set_predictors)\n",
    "test_set = pd.DataFrame(scaled_vals, columns=test_set_predictors.columns)\n",
    "test_set['Exited'] = test_set_target\n",
    "\n",
    "#Check that the transformation worked\n",
    "test_set.head(3)"
   ]
  },
  {
   "cell_type": "markdown",
   "metadata": {},
   "source": [
    "Finally, we needed to scale our data as machine learning algorithms tend to perform better when given data in the same scale. To do this we have fitter thr StandardScaler() which removes the mean and scales all the values to their unit variance. Once again, we first fitted this model on the training data and then used it to transform the training data before using it for the test data. Looking above we can confirm that this scaling process has worked as intedned and the data is now nearly ready for modelling. "
   ]
  },
  {
   "cell_type": "markdown",
   "metadata": {},
   "source": [
    "#### 6.4. Balance Classes Using SMOTE"
   ]
  },
  {
   "cell_type": "code",
   "execution_count": 240,
   "metadata": {},
   "outputs": [],
   "source": [
    "#Convert these datasets into train features, train target, test features & test target\n",
    "Xtrain = train_set.drop('Exited', axis=1)\n",
    "Xtest = test_set.drop('Exited', axis=1)\n",
    "ytrain = train_set['Exited']\n",
    "ytest = test_set['Exited']"
   ]
  },
  {
   "cell_type": "code",
   "execution_count": 241,
   "metadata": {},
   "outputs": [],
   "source": [
    "#Now we will use SMOTE to balance classes in the training data (i.e. those who left = those who stayed)\n",
    "smote = SMOTE()\n",
    "Xtrain, ytrain = smote.fit_resample(Xtrain,ytrain)"
   ]
  },
  {
   "cell_type": "markdown",
   "metadata": {},
   "source": [
    "This stage is hugely important as we have balanced the level of customers within the training data who churned (Exited = 1) with the amount of customers who didn't (Exited = 0). This is needed as before only 25% of customers actually churned, meaning any algorithm would be about 25% better at predicting customers who are likely to stay and NOT customers likely to churn. We are interested with Churn, so the level of churn must be at least equal here. This is not needed in the test data, only in the data that is usedf to train our algorithms. "
   ]
  },
  {
   "cell_type": "markdown",
   "metadata": {},
   "source": [
    "### 7. Baseline Model"
   ]
  },
  {
   "cell_type": "code",
   "execution_count": 242,
   "metadata": {},
   "outputs": [],
   "source": [
    "#We need this information to formulate our baseline model\n",
    "churn = ytrain.value_counts()[1]\n",
    "stayed = ytrain.value_counts()[0]\n",
    "total = Xtrain.shape[0]"
   ]
  },
  {
   "cell_type": "code",
   "execution_count": 243,
   "metadata": {},
   "outputs": [
    {
     "name": "stdout",
     "output_type": "stream",
     "text": [
      "The f-score of the baseline model is 0.375. The models we make in this project MUST outperform this score\n",
      "to be considered as useful.\n"
     ]
    }
   ],
   "source": [
    "#Now we need to calculate precision and recall measures to derive an f-score for our baseline model\n",
    "p_baseline = (stayed/total)/2\n",
    "r_baseline = (stayed/stayed)/2\n",
    "f_baseline = (p_baseline+r_baseline)/2\n",
    "print(f'The f-score of the baseline model is {round(f_baseline,3)}. The models we make in this project MUST\\\n",
    " outperform this score\\nto be considered as useful.')"
   ]
  },
  {
   "cell_type": "markdown",
   "metadata": {},
   "source": [
    "This baseline model is easy to set up and simplistic. It provides a benchmark f-score that all models must out-perform. If your learning algorithm fails to out-perform the basline model, it isn't of much use at all."
   ]
  },
  {
   "cell_type": "markdown",
   "metadata": {},
   "source": [
    "### 8. Hypereter Tuning, Model Fitting & Cross Validation"
   ]
  },
  {
   "cell_type": "markdown",
   "metadata": {},
   "source": [
    "#### 8.1. Linear Suport Vector Classifier"
   ]
  },
  {
   "cell_type": "code",
   "execution_count": 244,
   "metadata": {},
   "outputs": [
    {
     "name": "stdout",
     "output_type": "stream",
     "text": [
      "Generated in 22.02535104751587 seconds.\n"
     ]
    }
   ],
   "source": [
    "#First we must select the model\n",
    "lsvm = LinearSVC()\n",
    "\n",
    "#Now we need to set up the possible hyperameter combinations\n",
    "param_grid = {\n",
    "    'C': [0.001,0.01,0.1,1,3,5],\n",
    "    'max_iter': [10000],\n",
    "    'random_state': [7]\n",
    "}\n",
    "\n",
    "#Now we set up a five fold cross-validation\n",
    "grid_search = GridSearchCV(lsvm, param_grid, cv=5,scoring='f1_macro',return_train_score=True)\n",
    "\n",
    "#It's always useful to know exactly how long it takes to find the best model as this \n",
    "#will determine if we pickle the best model or not\n",
    "start = time.time()\n",
    "grid_search.fit(Xtrain, ytrain)\n",
    "end = time.time() - start\n",
    "print(f'Generated in {end} seconds.')"
   ]
  },
  {
   "cell_type": "code",
   "execution_count": 245,
   "metadata": {},
   "outputs": [
    {
     "data": {
      "text/plain": [
       "LinearSVC(C=0.001, max_iter=10000, random_state=7)"
      ]
     },
     "execution_count": 245,
     "metadata": {},
     "output_type": "execute_result"
    }
   ],
   "source": [
    "#After the cross validation, what were the best combination of hyperameters?\n",
    "lsvm = grid_search.best_estimator_\n",
    "lsvm"
   ]
  },
  {
   "cell_type": "code",
   "execution_count": 246,
   "metadata": {},
   "outputs": [
    {
     "name": "stdout",
     "output_type": "stream",
     "text": [
      "The best cross validation f-score was 0.7124 for the random forest classifier model.\n"
     ]
    }
   ],
   "source": [
    "#What was the f-score of the best model?\n",
    "lsvm_best = grid_search.best_score_\n",
    "print(f'The best cross validation f-score was {round(lsvm_best,4)} for the \\\n",
    "random forest classifier model.')"
   ]
  },
  {
   "cell_type": "code",
   "execution_count": 247,
   "metadata": {},
   "outputs": [
    {
     "name": "stdout",
     "output_type": "stream",
     "text": [
      "0.7124 0.7111 {'C': 0.001, 'max_iter': 10000, 'random_state': 7}\n",
      "0.7123 0.7116 {'C': 0.01, 'max_iter': 10000, 'random_state': 7}\n",
      "0.7123 0.7118 {'C': 5, 'max_iter': 10000, 'random_state': 7}\n",
      "0.7123 0.7118 {'C': 3, 'max_iter': 10000, 'random_state': 7}\n",
      "0.7123 0.7118 {'C': 1, 'max_iter': 10000, 'random_state': 7}\n",
      "0.7122 0.7118 {'C': 0.1, 'max_iter': 10000, 'random_state': 7}\n"
     ]
    }
   ],
   "source": [
    "#Now we must present the cross-validation scores to check for overfitting\n",
    "val_scores = grid_search.cv_results_['mean_test_score']\n",
    "train_scores = grid_search.cv_results_['mean_train_score']\n",
    "params = [str(x) for x in grid_search.cv_results_['params']]\n",
    "\n",
    "for val_score, train_score, param in sorted(zip(val_scores, train_scores, params), reverse=True):\n",
    "    print(round(val_score,4), round(train_score,4), param)"
   ]
  },
  {
   "cell_type": "code",
   "execution_count": 248,
   "metadata": {},
   "outputs": [
    {
     "name": "stdout",
     "output_type": "stream",
     "text": [
      "The best linear support vector model generated has an f-score that is 0.3370 greater than the baseline model, that is a 89.97% increase.\n"
     ]
    }
   ],
   "source": [
    "#How does this model compare to the baseline?\n",
    "lsvmXbaseline = lsvm_best-f_baseline\n",
    "print(f'The best linear support vector model generated has an f-score that is {round(lsvmXbaseline,3)}0 \\\n",
    "greater than the baseline model, that is a {round(((lsvm_best-f_baseline)/f_baseline)*100,2)}% increase.')"
   ]
  },
  {
   "cell_type": "code",
   "execution_count": 249,
   "metadata": {},
   "outputs": [
    {
     "data": {
      "text/plain": [
       "['models/lsvm-rb-clf.joblib']"
      ]
     },
     "execution_count": 249,
     "metadata": {},
     "output_type": "execute_result"
    }
   ],
   "source": [
    "#Dump the model into a folder to save for use later\n",
    "dump(lsvm, 'models/lsvm-rb-clf.joblib')"
   ]
  },
  {
   "cell_type": "markdown",
   "metadata": {},
   "source": [
    "####  8.2. Polynominal Suport Vector Machine"
   ]
  },
  {
   "cell_type": "code",
   "execution_count": 250,
   "metadata": {},
   "outputs": [
    {
     "name": "stdout",
     "output_type": "stream",
     "text": [
      "Generated in 239.77148485183716 seconds.\n"
     ]
    }
   ],
   "source": [
    "#First we need to import the model\n",
    "psvm = SVC(kernel=\"poly\", gamma=\"scale\", random_state=7)\n",
    "\n",
    "#Specify hyperameters and grid combinations\n",
    "param_grid = {\n",
    "    'C': [0.001,0.01,0.1,1,3,5],\n",
    "    'degree': [2], \n",
    "}\n",
    "\n",
    "#Use a five fold cross-validation\n",
    "grid_search = GridSearchCV(psvm, param_grid, cv=5, scoring='f1_macro', return_train_score=True)\n",
    "\n",
    "#It's always useful to know exactly how long it takes to find the best model as this \n",
    "#will determine if we pickle the best model or not\n",
    "start = time.time()\n",
    "grid_search.fit(Xtrain, ytrain)\n",
    "end = time.time() - start\n",
    "print(f'Generated in {end} seconds.')"
   ]
  },
  {
   "cell_type": "code",
   "execution_count": 251,
   "metadata": {},
   "outputs": [
    {
     "data": {
      "text/plain": [
       "SVC(C=5, degree=2, kernel='poly', random_state=7)"
      ]
     },
     "execution_count": 251,
     "metadata": {},
     "output_type": "execute_result"
    }
   ],
   "source": [
    "#What was the best combination of hyperameters?\n",
    "psvm = grid_search.best_estimator_\n",
    "psvm"
   ]
  },
  {
   "cell_type": "code",
   "execution_count": 252,
   "metadata": {},
   "outputs": [
    {
     "name": "stdout",
     "output_type": "stream",
     "text": [
      "The best cross validation f-score was 0.6856 for the random forest classifier model.\n"
     ]
    }
   ],
   "source": [
    "#What was the best f-score generated in cross-validation?\n",
    "psvm_best = grid_search.best_score_\n",
    "print(f'The best cross validation f-score was {round(psvm_best,4)} for the \\\n",
    "random forest classifier model.')"
   ]
  },
  {
   "cell_type": "code",
   "execution_count": 253,
   "metadata": {},
   "outputs": [
    {
     "name": "stdout",
     "output_type": "stream",
     "text": [
      "0.6855561094815993 0.6920482983523798 {'C': 5, 'degree': 2}\n",
      "0.6855006369089754 0.6913992324439995 {'C': 3, 'degree': 2}\n",
      "0.6831537838971775 0.6893603671471581 {'C': 1, 'degree': 2}\n",
      "0.679146232165021 0.6815279458643839 {'C': 0.1, 'degree': 2}\n",
      "0.6241211094747621 0.6272647339840443 {'C': 0.01, 'degree': 2}\n",
      "0.43945308535374117 0.44204118985051644 {'C': 0.001, 'degree': 2}\n"
     ]
    }
   ],
   "source": [
    "#Now we must present the cross-validation scores to check for overfitting\n",
    "val_scores = grid_search.cv_results_['mean_test_score']\n",
    "train_scores = grid_search.cv_results_['mean_train_score']\n",
    "params = [str(x) for x in grid_search.cv_results_['params']]\n",
    "\n",
    "for val_score, train_score, param in sorted(zip(val_scores, train_scores, params), reverse=True):\n",
    "    print((val_score), (train_score), param)"
   ]
  },
  {
   "cell_type": "code",
   "execution_count": 254,
   "metadata": {},
   "outputs": [
    {
     "name": "stdout",
     "output_type": "stream",
     "text": [
      "The best polynominal support vector model generated has an f-scorethat is -3.766% better than the previous\n",
      "linear support vector machine model.\n"
     ]
    }
   ],
   "source": [
    "#How does this model compare to the previous lsvm model?\n",
    "psvmXbaseline = psvm_best-f_baseline\n",
    "print(f'The best polynominal support vector model generated has an f-score\\\n",
    "that is {round((((psvm_best-lsvm_best)/lsvm_best)*100),3)}% better than the previous\\nlinear support \\\n",
    "vector machine model.') "
   ]
  },
  {
   "cell_type": "code",
   "execution_count": 255,
   "metadata": {},
   "outputs": [
    {
     "name": "stdout",
     "output_type": "stream",
     "text": [
      "The best polynominal support vector model generated has an f-score that is 0.311 greater than the baseline model, \n",
      "that is a 82.81% increase.\n"
     ]
    }
   ],
   "source": [
    "#How does this model compare to the baseline model?\n",
    "print(f'The best polynominal support vector model generated has an f-score that is {round(psvmXbaseline,3)} \\\n",
    "greater than the baseline model, \\nthat is a {round(((psvm_best-f_baseline)/f_baseline)*100,2)}% increase.')"
   ]
  },
  {
   "cell_type": "code",
   "execution_count": 256,
   "metadata": {},
   "outputs": [
    {
     "data": {
      "text/plain": [
       "['models/psvm-rb-clf.joblib']"
      ]
     },
     "execution_count": 256,
     "metadata": {},
     "output_type": "execute_result"
    }
   ],
   "source": [
    "#Dump the model into a folder to save for use later\n",
    "dump(psvm, 'models/psvm-rb-clf.joblib')"
   ]
  },
  {
   "cell_type": "markdown",
   "metadata": {},
   "source": [
    "#### 8.3. Decision Tree Classifier"
   ]
  },
  {
   "cell_type": "code",
   "execution_count": 257,
   "metadata": {},
   "outputs": [
    {
     "name": "stdout",
     "output_type": "stream",
     "text": [
      "Generated in 1.7729551792144775 seconds.\n"
     ]
    }
   ],
   "source": [
    "#First we need to import the model\n",
    "dtree = DecisionTreeClassifier()\n",
    "\n",
    "#Outline the possible hyperameters\n",
    "param_grid = {'max_depth': [5,7,9,10,20,30,40,50]}\n",
    "\n",
    "#Use a five fold cross-validation\n",
    "grid_search = GridSearchCV(dtree, param_grid ,cv=5, scoring='f1_macro', return_train_score=True)\n",
    "\n",
    "#It's always useful to know exactly how long it takes to find the best model as this \n",
    "#will determine if we pickle the best model or not\n",
    "start = time.time()\n",
    "grid_search.fit(Xtrain, ytrain)\n",
    "end = time.time() - start\n",
    "print(f'Generated in {end} seconds.')"
   ]
  },
  {
   "cell_type": "code",
   "execution_count": 258,
   "metadata": {},
   "outputs": [
    {
     "name": "stdout",
     "output_type": "stream",
     "text": [
      "The best cross validation f-score was 0.8248 for the random forest classifier model.\n"
     ]
    }
   ],
   "source": [
    "#What was the best f-score generated in cross-validation?\n",
    "dt_best = grid_search.best_score_\n",
    "print(f'The best cross validation f-score was {round(dt_best,4)} for the \\\n",
    "random forest classifier model.')"
   ]
  },
  {
   "cell_type": "code",
   "execution_count": 259,
   "metadata": {},
   "outputs": [
    {
     "data": {
      "text/plain": [
       "DecisionTreeClassifier(max_depth=30)"
      ]
     },
     "execution_count": 259,
     "metadata": {},
     "output_type": "execute_result"
    }
   ],
   "source": [
    "#What was the best combination of hyperameters?\n",
    "dtree = grid_search.best_estimator_\n",
    "dtree"
   ]
  },
  {
   "cell_type": "code",
   "execution_count": 260,
   "metadata": {},
   "outputs": [
    {
     "name": "stdout",
     "output_type": "stream",
     "text": [
      "0.8247983174601323 1.0 {'max_depth': 30}\n",
      "0.823296806976567 1.0 {'max_depth': 50}\n",
      "0.8213244447009862 1.0 {'max_depth': 40}\n",
      "0.8192368838489923 0.9950941873089605 {'max_depth': 20}\n",
      "0.8174762007002807 0.868569156987985 {'max_depth': 10}\n",
      "0.8134494174327613 0.8532303027800788 {'max_depth': 9}\n",
      "0.80238513060118 0.820152351812451 {'max_depth': 7}\n",
      "0.7814724414784833 0.7909058549728574 {'max_depth': 5}\n"
     ]
    }
   ],
   "source": [
    "#Now we must present the cross-validation scores to check for overfitting\n",
    "val_scores = grid_search.cv_results_['mean_test_score']\n",
    "train_scores = grid_search.cv_results_['mean_train_score']\n",
    "params = [str(x) for x in grid_search.cv_results_['params']]\n",
    "\n",
    "for val_score, train_score, param in sorted(zip(val_scores, train_scores, params), reverse=True):\n",
    "    print((val_score), (train_score), param)"
   ]
  },
  {
   "cell_type": "code",
   "execution_count": 261,
   "metadata": {},
   "outputs": [
    {
     "name": "stdout",
     "output_type": "stream",
     "text": [
      "The mean f-score generated by cross validating the random forest generator has an f-score that is 0.45 greater than the baseline model, thatis a 119.95% increase.\n"
     ]
    }
   ],
   "source": [
    "#How does this model compare to the baseline model?\n",
    "dtXbaseline = dt_best - f_baseline\n",
    "print(f'The mean f-score generated by cross validating the random forest generator \\\n",
    "has an f-score that is {round(dtXbaseline,3)} greater than the baseline model, that\\\n",
    "is a {round(((dt_best-f_baseline)/f_baseline)*100,2)}% increase.')"
   ]
  },
  {
   "cell_type": "code",
   "execution_count": 262,
   "metadata": {},
   "outputs": [
    {
     "data": {
      "image/png": "[encoded data removed]",
      "text/plain": [
       "<Figure size 720x360 with 1 Axes>"
      ]
     },
     "metadata": {
      "needs_background": "light"
     },
     "output_type": "display_data"
    }
   ],
   "source": [
    "#Viaualise the decision tree\n",
    "fig_dt = plt.figure(figsize=(10,5))\n",
    "ax = plt.axes()\n",
    "tree_plot = plot_tree(dtree,\n",
    "                     class_names = 'Exited',\n",
    "                     feature_names = list(Xtrain.columns),\n",
    "                     ax=ax)"
   ]
  },
  {
   "cell_type": "markdown",
   "metadata": {},
   "source": [
    "Unfortunatly we are unable to easily view each decision tree node as there are too many, with too great a depth too."
   ]
  },
  {
   "cell_type": "code",
   "execution_count": 263,
   "metadata": {},
   "outputs": [
    {
     "data": {
      "text/plain": [
       "['models/dtree-rb-clf.joblib']"
      ]
     },
     "execution_count": 263,
     "metadata": {},
     "output_type": "execute_result"
    }
   ],
   "source": [
    "#Dump the model into a folder to save for use later\n",
    "dump(dtree, 'models/dtree-rb-clf.joblib')"
   ]
  },
  {
   "cell_type": "markdown",
   "metadata": {},
   "source": [
    "#### 8.4. Random Forest Generator"
   ]
  },
  {
   "cell_type": "code",
   "execution_count": 264,
   "metadata": {},
   "outputs": [
    {
     "name": "stdout",
     "output_type": "stream",
     "text": [
      "Generated in 8.623471975326538 seconds.\n"
     ]
    }
   ],
   "source": [
    "#First we need to import the model\n",
    "rfc = RandomForestClassifier()\n",
    "\n",
    "#Set up the hyperamaters to be grid-searched\n",
    "param_grid = [\n",
    "    {'n_estimators': [1,5,10,15,30], 'max_depth':[4,6,8,10], }\n",
    "]\n",
    "\n",
    "#Now we will run a five-fold cross validation\n",
    "grid_search = GridSearchCV(rfc, param_grid ,cv=5, scoring='f1_macro', return_train_score=True)\n",
    "\n",
    "#How long did it take to complete the cross validation?\n",
    "start = time.time()\n",
    "grid_search.fit(Xtrain, ytrain)\n",
    "end = time.time() - start\n",
    "print(f'Generated in {end} seconds.')"
   ]
  },
  {
   "cell_type": "code",
   "execution_count": 265,
   "metadata": {},
   "outputs": [
    {
     "data": {
      "text/plain": [
       "RandomForestClassifier(max_depth=10, n_estimators=30)"
      ]
     },
     "execution_count": 265,
     "metadata": {},
     "output_type": "execute_result"
    }
   ],
   "source": [
    "#What are the best hyperameters?\n",
    "rfc = grid_search.best_estimator_\n",
    "rfc"
   ]
  },
  {
   "cell_type": "code",
   "execution_count": 266,
   "metadata": {},
   "outputs": [
    {
     "data": {
      "text/plain": [
       "0.8431195016668911"
      ]
     },
     "execution_count": 266,
     "metadata": {},
     "output_type": "execute_result"
    }
   ],
   "source": [
    "rfc_best = grid_search.best_score_\n",
    "rfc_best"
   ]
  },
  {
   "cell_type": "code",
   "execution_count": 267,
   "metadata": {},
   "outputs": [
    {
     "name": "stdout",
     "output_type": "stream",
     "text": [
      "0.8431195016668911 0.8958537689257632 {'max_depth': 10, 'n_estimators': 30}\n",
      "0.8374737307200096 0.8878649221479925 {'max_depth': 10, 'n_estimators': 10}\n",
      "0.8368415500053563 0.8919658148376801 {'max_depth': 10, 'n_estimators': 15}\n",
      "0.8281011998034409 0.8769768940776215 {'max_depth': 10, 'n_estimators': 5}\n",
      "0.82340588977286 0.8540190063666561 {'max_depth': 8, 'n_estimators': 30}\n",
      "0.822642776487028 0.846808074009416 {'max_depth': 8, 'n_estimators': 10}\n",
      "0.8211488616037144 0.8525984658934036 {'max_depth': 8, 'n_estimators': 15}\n",
      "0.8157855066602412 0.8464730238137216 {'max_depth': 8, 'n_estimators': 5}\n",
      "0.8064791059987287 0.8141563149403878 {'max_depth': 6, 'n_estimators': 10}\n",
      "0.8043510996125678 0.8195098335286964 {'max_depth': 6, 'n_estimators': 30}\n",
      "0.8041984396545228 0.8157842809116158 {'max_depth': 6, 'n_estimators': 15}\n",
      "0.7982861969834216 0.810448686013833 {'max_depth': 6, 'n_estimators': 5}\n",
      "0.7917722839295476 0.7973001525825026 {'max_depth': 4, 'n_estimators': 30}\n",
      "0.7830717307991103 0.7903637109739697 {'max_depth': 4, 'n_estimators': 15}\n",
      "0.7814222541451813 0.7864183272395445 {'max_depth': 4, 'n_estimators': 10}\n",
      "0.7784193164526169 0.8204952030338675 {'max_depth': 10, 'n_estimators': 1}\n",
      "0.772269026766401 0.7781748143020801 {'max_depth': 4, 'n_estimators': 5}\n",
      "0.7481896513809368 0.7523445346368455 {'max_depth': 6, 'n_estimators': 1}\n",
      "0.7456207894561417 0.7694991507767143 {'max_depth': 8, 'n_estimators': 1}\n",
      "0.6933858140170684 0.7033801401374469 {'max_depth': 4, 'n_estimators': 1}\n"
     ]
    }
   ],
   "source": [
    "#Now we must present the cross-validation scores to check for overfitting\n",
    "val_scores = grid_search.cv_results_['mean_test_score']\n",
    "train_scores = grid_search.cv_results_['mean_train_score']\n",
    "params = [str(x) for x in grid_search.cv_results_['params']]\n",
    "\n",
    "for val_score, train_score, param in sorted(zip(val_scores, train_scores, params), reverse=True):\n",
    "    print((val_score), (train_score), param)"
   ]
  },
  {
   "cell_type": "code",
   "execution_count": 268,
   "metadata": {},
   "outputs": [
    {
     "name": "stdout",
     "output_type": "stream",
     "text": [
      "The best cross validation f-score was 0.8431 for the random forest classifier model.\n"
     ]
    }
   ],
   "source": [
    "print(f'The best cross validation f-score was {round(rfc_best,4)} for the \\\n",
    "random forest classifier model.')"
   ]
  },
  {
   "cell_type": "code",
   "execution_count": 269,
   "metadata": {},
   "outputs": [
    {
     "name": "stdout",
     "output_type": "stream",
     "text": [
      "The mean f-score generated by cross validating the random forest generator has an f-score that is 0.468 greater than the baseline model, thatis a 124.83% increase.\n"
     ]
    }
   ],
   "source": [
    "#How does this model compare to the baseline model?\n",
    "rfcXbaseline = rfc_best - f_baseline\n",
    "print(f'The mean f-score generated by cross validating the random forest generator \\\n",
    "has an f-score that is {round(rfcXbaseline,3)} greater than the baseline model, that\\\n",
    "is a {round(((rfc_best-f_baseline)/f_baseline)*100,2)}% increase.')"
   ]
  },
  {
   "cell_type": "code",
   "execution_count": 270,
   "metadata": {},
   "outputs": [
    {
     "data": {
      "text/plain": [
       "['models/rfc-rb-clf.joblib']"
      ]
     },
     "execution_count": 270,
     "metadata": {},
     "output_type": "execute_result"
    }
   ],
   "source": [
    "#Dump the model into a folder to save for use later\n",
    "dump(rfc, 'models/rfc-rb-clf.joblib')"
   ]
  },
  {
   "cell_type": "markdown",
   "metadata": {},
   "source": [
    "#### 8.5. Neural Network Classification"
   ]
  },
  {
   "cell_type": "code",
   "execution_count": 271,
   "metadata": {},
   "outputs": [
    {
     "name": "stdout",
     "output_type": "stream",
     "text": [
      "Generated in 94.76714301109314 seconds.\n"
     ]
    }
   ],
   "source": [
    "#First we need to import the model\n",
    "clf = MLPClassifier()\n",
    "\n",
    "#Set up the hyperamater combinations\n",
    "param_grid = [\n",
    "    {'solver': ['lbfgs'], 'max_iter':[9000],\n",
    "     'hidden_layer_sizes':[10,11,12,13,14,15], 'random_state':[7]}\n",
    "]\n",
    "\n",
    "#Now we will run a five-fold cross validation\n",
    "grid_search = GridSearchCV(clf, param_grid ,cv=5, scoring='f1_macro', return_train_score=True)\n",
    "\n",
    "#How long did it take to complete the cross validation?\n",
    "start = time.time()\n",
    "grid_search.fit(Xtrain, ytrain)\n",
    "end = time.time() - start\n",
    "print(f'Generated in {end} seconds.')"
   ]
  },
  {
   "cell_type": "code",
   "execution_count": 272,
   "metadata": {},
   "outputs": [
    {
     "data": {
      "text/plain": [
       "MLPClassifier(hidden_layer_sizes=14, max_iter=9000, random_state=7,\n",
       "              solver='lbfgs')"
      ]
     },
     "execution_count": 272,
     "metadata": {},
     "output_type": "execute_result"
    }
   ],
   "source": [
    "#What are the best hyperameters?\n",
    "clf = grid_search.best_estimator_\n",
    "clf"
   ]
  },
  {
   "cell_type": "code",
   "execution_count": 273,
   "metadata": {},
   "outputs": [
    {
     "name": "stdout",
     "output_type": "stream",
     "text": [
      "The best cross validation f-score was 0.8069 for the random forest classifier model.\n"
     ]
    }
   ],
   "source": [
    "clf_best = grid_search.best_score_\n",
    "print(f'The best cross validation f-score was {round(clf_best,4)} for the \\\n",
    "random forest classifier model.')"
   ]
  },
  {
   "cell_type": "code",
   "execution_count": 274,
   "metadata": {},
   "outputs": [
    {
     "name": "stdout",
     "output_type": "stream",
     "text": [
      "0.8068723669110153 0.8248775599268289 {'hidden_layer_sizes': 14, 'max_iter': 9000, 'random_state': 7, 'solver': 'lbfgs'}\n",
      "0.8055040302269466 0.8221280616788142 {'hidden_layer_sizes': 13, 'max_iter': 9000, 'random_state': 7, 'solver': 'lbfgs'}\n",
      "0.8037343981339096 0.8186549564161172 {'hidden_layer_sizes': 12, 'max_iter': 9000, 'random_state': 7, 'solver': 'lbfgs'}\n",
      "0.8016791065733846 0.811366843466397 {'hidden_layer_sizes': 10, 'max_iter': 9000, 'random_state': 7, 'solver': 'lbfgs'}\n",
      "0.8004124166100249 0.8229697167764203 {'hidden_layer_sizes': 15, 'max_iter': 9000, 'random_state': 7, 'solver': 'lbfgs'}\n",
      "0.7972585464866994 0.8109757254554572 {'hidden_layer_sizes': 11, 'max_iter': 9000, 'random_state': 7, 'solver': 'lbfgs'}\n"
     ]
    }
   ],
   "source": [
    "#Now we must present the cross-validation scores to check for overfitting\n",
    "val_scores = grid_search.cv_results_['mean_test_score']\n",
    "train_scores = grid_search.cv_results_['mean_train_score']\n",
    "params = [str(x) for x in grid_search.cv_results_['params']]\n",
    "\n",
    "for val_score, train_score, param in sorted(zip(val_scores, train_scores, params), reverse=True):\n",
    "    print((val_score), (train_score), param)"
   ]
  },
  {
   "cell_type": "code",
   "execution_count": 275,
   "metadata": {},
   "outputs": [
    {
     "name": "stdout",
     "output_type": "stream",
     "text": [
      "The mean f-score generated by cross validating the random forest generator has an f-score that is 0.432 greater than the baseline model, thatis a 115.17% increase.\n"
     ]
    }
   ],
   "source": [
    "#How does this model compare to the baseline model?\n",
    "clfXbaseline = clf_best - f_baseline\n",
    "print(f'The mean f-score generated by cross validating the random forest generator \\\n",
    "has an f-score that is {round(clfXbaseline,3)} greater than the baseline model, that\\\n",
    "is a {round(((clf_best-f_baseline)/f_baseline)*100,2)}% increase.')"
   ]
  },
  {
   "cell_type": "code",
   "execution_count": 276,
   "metadata": {},
   "outputs": [
    {
     "data": {
      "text/plain": [
       "['models/clf-rb-clf.joblib']"
      ]
     },
     "execution_count": 276,
     "metadata": {},
     "output_type": "execute_result"
    }
   ],
   "source": [
    "#Dump the model into a folder to save for use later\n",
    "dump(clf, 'models/clf-rb-clf.joblib')"
   ]
  },
  {
   "cell_type": "markdown",
   "metadata": {},
   "source": [
    "#### 8.5. Training Conclusion"
   ]
  },
  {
   "cell_type": "markdown",
   "metadata": {},
   "source": [
    "The f-score results for all our machine learning models after cross-validation and hyperameter tuning are as follows:\n",
    "\n",
    "* Random Forrest - 0.8461\n",
    "* Decision Tree  - 0.8166\n",
    "* Neural Network - 0.8154\n",
    "* Linear SVM     - 0.7118\n",
    "* Poly SVM       - 0.6861\n",
    "\n",
    "As we can see the randem forest, decision tree and neural network algorithms performed better than both SVM models during cross validation. This being said ALL models significantly out performed the baseline model which had an f-score of 0.375. Regardless of this, we can see that some models work better than others and we will therefore only use the random forest, decision tree and neural network models forward to the testing stage of this project. \n",
    "\n",
    "Why might decision tree's & nearal network's out-perform SVM's?\n",
    "\n",
    "• Decision tree models split up data into smaller subgroups, allowing for more comprahensive analysis\n",
    "\n",
    "• Maybe we didn't set up the optimal hyperamiter combinations for the SVM's \n",
    "\n",
    "• There's no set practice to what models perform better on what datasets. Sometimes a dataset will suit SVM's, and sometimes not."
   ]
  },
  {
   "cell_type": "markdown",
   "metadata": {},
   "source": [
    "### 9. Evaluating on Test Data Performance"
   ]
  },
  {
   "cell_type": "markdown",
   "metadata": {},
   "source": [
    "#### 9.1. Decision Tree Evaluation"
   ]
  },
  {
   "cell_type": "code",
   "execution_count": 277,
   "metadata": {},
   "outputs": [
    {
     "name": "stdout",
     "output_type": "stream",
     "text": [
      "The dicision tree model achieved an f-score of 0.6762 when used to predict churn in the training data.\n"
     ]
    }
   ],
   "source": [
    "#Firt we need to load the pickled decision tree model from earlier\n",
    "dt_model = load('models/dtree-rb-clf.joblib')\n",
    "\n",
    "#Now we need to use this model to predict our testing data\n",
    "dt_yhat = dt_model.predict(Xtest)\n",
    "\n",
    "#Now we must calculate the models f-score\n",
    "p, r, dtree_score, s = precision_recall_fscore_support(ytest,dt_yhat, average='macro')\n",
    "print(f'The dicision tree model achieved an f-score of {round(dtree_score,4)} when used to predict churn \\\n",
    "in the training data.')"
   ]
  },
  {
   "cell_type": "code",
   "execution_count": 278,
   "metadata": {},
   "outputs": [
    {
     "data": {
      "image/png": "[encoded data removed]",
      "text/plain": [
       "<Figure size 432x288 with 2 Axes>"
      ]
     },
     "metadata": {
      "needs_background": "light"
     },
     "output_type": "display_data"
    }
   ],
   "source": [
    "#Now it's useful to plot a confusion matrix\n",
    "dt_cm = plot_confusion_matrix(dt_model, Xtest, ytest)"
   ]
  },
  {
   "cell_type": "code",
   "execution_count": 279,
   "metadata": {},
   "outputs": [
    {
     "name": "stdout",
     "output_type": "stream",
     "text": [
      "The decision tree model sucessfully predicted 77.2% of the test data correctly.\n"
     ]
    }
   ],
   "source": [
    "confusion_matrix_DT = confusion_matrix(ytest, dt_yhat)\n",
    "dt_percent = ((confusion_matrix_DT[0][0]+confusion_matrix_DT[1][1])/2000)*100\n",
    "print(f'The decision tree model sucessfully predicted \\\n",
    "{round(dt_percent,2)}% of the test data correctly.')"
   ]
  },
  {
   "cell_type": "code",
   "execution_count": 280,
   "metadata": {},
   "outputs": [
    {
     "name": "stdout",
     "output_type": "stream",
     "text": [
      "The f-score generated from predicting our test data's target variable is 0.301 greater than the baseline model, that is a 80.31% increase.\n"
     ]
    }
   ],
   "source": [
    "#How does this model compare to the baseline model?\n",
    "dt_modelXbaseline = dtree_score - f_baseline\n",
    "print(f\"The f-score generated from predicting our test data's target variable \\\n",
    "is {round(dt_modelXbaseline,3)} greater than the baseline model, that \\\n",
    "is a {round(((dtree_score-f_baseline)/f_baseline)*100,2)}% increase.\")"
   ]
  },
  {
   "cell_type": "markdown",
   "metadata": {},
   "source": [
    "#### 9.2. Random Forest Evaluation"
   ]
  },
  {
   "cell_type": "code",
   "execution_count": 281,
   "metadata": {},
   "outputs": [
    {
     "name": "stdout",
     "output_type": "stream",
     "text": [
      "The random forest classifier acheived an f-score of 0.7693 when used to predict churn in the test data.\n"
     ]
    }
   ],
   "source": [
    "#Firt we need to load the pickled random forest model from earlier\n",
    "rfc_model = load('models/rfc-rb-clf.joblib')\n",
    "\n",
    "#Now we need to use this model to predict our testing data\n",
    "rfc_yhat = rfc_model.predict(Xtest)\n",
    "\n",
    "#Now we must calculate the models f-score\n",
    "p, r, rfc_score, s = precision_recall_fscore_support(ytest,rfc_yhat, average='macro')\n",
    "print(f'The random forest classifier acheived an f-score of {round(rfc_score,4)} when used to predict churn \\\n",
    "in the test data.')"
   ]
  },
  {
   "cell_type": "code",
   "execution_count": 282,
   "metadata": {},
   "outputs": [
    {
     "data": {
      "image/png": "[encoded data removed]",
      "text/plain": [
       "<Figure size 432x288 with 2 Axes>"
      ]
     },
     "metadata": {
      "needs_background": "light"
     },
     "output_type": "display_data"
    }
   ],
   "source": [
    "#Now it's useful to plot a confusion matrix\n",
    "rfc_cm = plot_confusion_matrix(rfc_model, Xtest, ytest)"
   ]
  },
  {
   "cell_type": "code",
   "execution_count": 283,
   "metadata": {},
   "outputs": [
    {
     "name": "stdout",
     "output_type": "stream",
     "text": [
      "The random forest classifier model sucessfully predicted 83.95% of the test data correctly. \n",
      "That is 6.75% more than the deicion tree classifier achieved on the same test data.\n"
     ]
    }
   ],
   "source": [
    "confusion_matrix_rfc = confusion_matrix(ytest, rfc_yhat)\n",
    "rfc_percent = ((confusion_matrix_rfc[0][0]+confusion_matrix_rfc[1][1])/2000)*100\n",
    "print(f'The random forest classifier model sucessfully predicted {round(rfc_percent,2)}% of the test data correctly. \\\n",
    "\\nThat is {round(rfc_percent-dt_percent,2)}% more than the deicion tree classifier achieved on the same test data.')"
   ]
  },
  {
   "cell_type": "code",
   "execution_count": 284,
   "metadata": {},
   "outputs": [
    {
     "name": "stdout",
     "output_type": "stream",
     "text": [
      "The f-score generated from predicting our test data's target variable (churn) is 0.394 greater than the baseline\n",
      "model, that is a 105.16% increase.\n"
     ]
    }
   ],
   "source": [
    "#How does this model compare to the baseline model?\n",
    "rfc_modelXbaseline = rfc_score - f_baseline\n",
    "print(f\"The f-score generated from predicting our test data's target variable (churn) \\\n",
    "is {round(rfc_modelXbaseline,3)} greater than the baseline\\nmodel, that \\\n",
    "is a {round(((rfc_score-f_baseline)/f_baseline)*100,2)}% increase.\")"
   ]
  },
  {
   "cell_type": "markdown",
   "metadata": {},
   "source": [
    "#### 9.3. Neural Network Classifier Evaluation"
   ]
  },
  {
   "cell_type": "code",
   "execution_count": 285,
   "metadata": {},
   "outputs": [
    {
     "name": "stdout",
     "output_type": "stream",
     "text": [
      "The neural network achieved an f-score of 0.7287 when used to predict churn in the training data.\n"
     ]
    }
   ],
   "source": [
    "#Firt we need to load the pickled decision tree model from earlier\n",
    "clf_model = load('models/clf-rb-clf.joblib')\n",
    "\n",
    "#Now we need to use this model to predict our testing data\n",
    "clf_yhat = clf_model.predict(Xtest)\n",
    "\n",
    "#Now we must calculate the models f-score\n",
    "p, r, clf_score, s = precision_recall_fscore_support(ytest,clf_yhat, average='macro')\n",
    "print(f'The neural network achieved an f-score of {round(clf_score,4)} when used to predict churn \\\n",
    "in the training data.')"
   ]
  },
  {
   "cell_type": "code",
   "execution_count": 286,
   "metadata": {},
   "outputs": [
    {
     "data": {
      "image/png": "[encoded data removed]",
      "text/plain": [
       "<Figure size 432x288 with 2 Axes>"
      ]
     },
     "metadata": {
      "needs_background": "light"
     },
     "output_type": "display_data"
    }
   ],
   "source": [
    "#Now it's useful to plot a confusion matrix\n",
    "clf_cm = plot_confusion_matrix(clf_model, Xtest, ytest)"
   ]
  },
  {
   "cell_type": "code",
   "execution_count": 287,
   "metadata": {},
   "outputs": [
    {
     "name": "stdout",
     "output_type": "stream",
     "text": [
      "The neural network model sucessfully predicted 79.9% of the test data correctly. \n",
      "That is -4.05% more than the deicion tree classifier achieved on the same test data.\n"
     ]
    }
   ],
   "source": [
    "confusion_matrix_clf = confusion_matrix(ytest, clf_yhat)\n",
    "clf_percent = ((confusion_matrix_clf[0][0]+confusion_matrix_clf[1][1])/2000)*100\n",
    "print(f'The neural network model sucessfully predicted {round(clf_percent,2)}% of the test data correctly. \\\n",
    "\\nThat is {round(clf_percent-rfc_percent,2)}% more than the deicion tree classifier achieved on the same test data.')"
   ]
  },
  {
   "cell_type": "code",
   "execution_count": 288,
   "metadata": {},
   "outputs": [
    {
     "name": "stdout",
     "output_type": "stream",
     "text": [
      "The f-score generated from predicting our test data's target variable (churn) is 0.354 greater than the baseline\n",
      "model, that is a 94.32% increase.\n"
     ]
    }
   ],
   "source": [
    "#How does this model compare to the baseline model?\n",
    "clf_modelXbaseline = clf_score - f_baseline\n",
    "print(f\"The f-score generated from predicting our test data's target variable (churn) \\\n",
    "is {round(clf_modelXbaseline,3)} greater than the baseline\\nmodel, that \\\n",
    "is a {round(((clf_score-f_baseline)/f_baseline)*100,2)}% increase.\")"
   ]
  },
  {
   "cell_type": "markdown",
   "metadata": {},
   "source": [
    "#### 9.4. Testing Conclusion"
   ]
  },
  {
   "cell_type": "markdown",
   "metadata": {},
   "source": [
    "The Random Forrest Classifier model generated the highest f-score on the test data of 0.7693 and was able to predict 288 out of 407 instances of churn correctly. However, dispite having a slightly lower f-score of 0.7287, the Neural Network Classifier was able to predict 290/407 instances of churn correctly. The lower f-score being because the neural network produced 83 more false-churn isntances where churn was predicted in a customer who stayed at the bank. \n",
    "\n",
    "Both models are appropriate but what is best depends on the company objectives. Is the aim to predict shurn at all costs? If so then the Nueral Nework Classifier is best. Is the goal to predict churn in a more conservative way to ensure fewer false-churn instances? If so then the Random Forest Classifier is the best algorithm to deploy."
   ]
  },
  {
   "cell_type": "markdown",
   "metadata": {},
   "source": [
    "#### 9.5. Possible Scenarios for Real-world Business Deployment"
   ]
  },
  {
   "cell_type": "markdown",
   "metadata": {},
   "source": [
    "This data could be used for any bank operating in Europe as follows:\n",
    "\n",
    "1) Marketing teams can use customer databases as instances for the model to predict churn. They could target the customers predicted as likely to churn with better deals and promotions to encorage them to stay, helping to maintain business revenue.\n",
    "\n",
    "2) Using the decision trees within the decision tree and random forest models banks could form a questionnaire to predict churn in customers that they don't have data on.\n",
    "\n",
    "3) Large investment firms might want to invest in or in some cases buy out a smaller bank. They could use this algorithm to predict churn levels of their customers. If the churn predicted is high then the valuation of the bank will fall. If the churn prediction is low then the valuation increases."
   ]
  },
  {
   "cell_type": "markdown",
   "metadata": {},
   "source": [
    "#### 9.6. Possible Challanges in Deployment"
   ]
  },
  {
   "cell_type": "markdown",
   "metadata": {},
   "source": [
    "1) Need to create a function that automatically scales inputted data for the algorithm to work.\n",
    "\n",
    "2) Staff members might want to go with their 'gut' when predicting churn.\n",
    "\n",
    "3) **Model degredation**: result of a data drift/changes in the environment meaning the model must be retrained with new data. "
   ]
  },
  {
   "cell_type": "code",
   "execution_count": null,
   "metadata": {},
   "outputs": [],
   "source": []
  }
 ],
 "metadata": {
  "kernelspec": {
   "display_name": "Python 3",
   "language": "python",
   "name": "python3"
  },
  "language_info": {
   "codemirror_mode": {
    "name": "ipython",
    "version": 3
   },
   "file_extension": ".py",
   "mimetype": "text/x-python",
   "name": "python",
   "nbconvert_exporter": "python",
   "pygments_lexer": "ipython3",
   "version": "3.8.5"
  }
 },
 "nbformat": 4,
 "nbformat_minor": 4
}
